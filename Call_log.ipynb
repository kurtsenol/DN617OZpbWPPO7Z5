{
  "nbformat": 4,
  "nbformat_minor": 0,
  "metadata": {
    "colab": {
      "name": "Call_log.ipynb",
      "provenance": [],
      "collapsed_sections": [
        "DCZeMr1Ofjsq",
        "hCGrJNymgJlR",
        "B-iDM5V9WtO5",
        "ehEgfwE-chDI",
        "NM8tkBvFhE3H",
        "YZdzgtEIiyrb",
        "YEjZCGPtnNkj",
        "GBWhtChn1Lb_",
        "ZjIkLIBD1kCN",
        "btIsXDcB11SQ",
        "dz0lDMjs2W25"
      ],
      "mount_file_id": "1zHMH0J99QGAFMNNbEKgz31gS671hHkVf",
      "authorship_tag": "ABX9TyPy3y0YNTf5oy4zx5Ez2mKB",
      "include_colab_link": true
    },
    "kernelspec": {
      "name": "python3",
      "display_name": "Python 3"
    }
  },
  "cells": [
    {
      "cell_type": "markdown",
      "metadata": {
        "id": "view-in-github",
        "colab_type": "text"
      },
      "source": [
        "<a href=\"https://colab.research.google.com/github/kurtsenol/DN617OZpbWPPO7Z5/blob/main/Call_log.ipynb\" target=\"_parent\"><img src=\"https://colab.research.google.com/assets/colab-badge.svg\" alt=\"Open In Colab\"/></a>"
      ]
    },
    {
      "cell_type": "markdown",
      "metadata": {
        "id": "DCZeMr1Ofjsq"
      },
      "source": [
        "### 1. Importing Libraries and Dataset"
      ]
    },
    {
      "cell_type": "code",
      "metadata": {
        "id": "0NSTx2nlsqBa"
      },
      "source": [
        "# Importing Libraries\r\n",
        "\r\n",
        "import numpy as np\r\n",
        "import pandas as pd\r\n",
        "import seaborn as sns\r\n",
        "import matplotlib.pyplot as plt\r\n",
        "%matplotlib inline\r\n",
        "\r\n",
        "sns.set(rc={'figure.figsize':(10,6)})"
      ],
      "execution_count": 1,
      "outputs": []
    },
    {
      "cell_type": "code",
      "metadata": {
        "colab": {
          "base_uri": "https://localhost:8080/",
          "height": 0
        },
        "id": "plYSyK3tlcz3",
        "outputId": "45adcb72-9980-4b07-e9a5-e99b946aef58"
      },
      "source": [
        "df= pd.read_csv(\"/content/drive/MyDrive/Colab Notebooks/Case/term-deposit-marketing-2020.csv\")\r\n",
        "df.head(10)"
      ],
      "execution_count": 2,
      "outputs": [
        {
          "output_type": "execute_result",
          "data": {
            "text/html": [
              "<div>\n",
              "<style scoped>\n",
              "    .dataframe tbody tr th:only-of-type {\n",
              "        vertical-align: middle;\n",
              "    }\n",
              "\n",
              "    .dataframe tbody tr th {\n",
              "        vertical-align: top;\n",
              "    }\n",
              "\n",
              "    .dataframe thead th {\n",
              "        text-align: right;\n",
              "    }\n",
              "</style>\n",
              "<table border=\"1\" class=\"dataframe\">\n",
              "  <thead>\n",
              "    <tr style=\"text-align: right;\">\n",
              "      <th></th>\n",
              "      <th>age</th>\n",
              "      <th>job</th>\n",
              "      <th>marital</th>\n",
              "      <th>education</th>\n",
              "      <th>default</th>\n",
              "      <th>balance</th>\n",
              "      <th>housing</th>\n",
              "      <th>loan</th>\n",
              "      <th>contact</th>\n",
              "      <th>day</th>\n",
              "      <th>month</th>\n",
              "      <th>duration</th>\n",
              "      <th>campaign</th>\n",
              "      <th>y</th>\n",
              "    </tr>\n",
              "  </thead>\n",
              "  <tbody>\n",
              "    <tr>\n",
              "      <th>0</th>\n",
              "      <td>58</td>\n",
              "      <td>management</td>\n",
              "      <td>married</td>\n",
              "      <td>tertiary</td>\n",
              "      <td>no</td>\n",
              "      <td>2143</td>\n",
              "      <td>yes</td>\n",
              "      <td>no</td>\n",
              "      <td>unknown</td>\n",
              "      <td>5</td>\n",
              "      <td>may</td>\n",
              "      <td>261</td>\n",
              "      <td>1</td>\n",
              "      <td>no</td>\n",
              "    </tr>\n",
              "    <tr>\n",
              "      <th>1</th>\n",
              "      <td>44</td>\n",
              "      <td>technician</td>\n",
              "      <td>single</td>\n",
              "      <td>secondary</td>\n",
              "      <td>no</td>\n",
              "      <td>29</td>\n",
              "      <td>yes</td>\n",
              "      <td>no</td>\n",
              "      <td>unknown</td>\n",
              "      <td>5</td>\n",
              "      <td>may</td>\n",
              "      <td>151</td>\n",
              "      <td>1</td>\n",
              "      <td>no</td>\n",
              "    </tr>\n",
              "    <tr>\n",
              "      <th>2</th>\n",
              "      <td>33</td>\n",
              "      <td>entrepreneur</td>\n",
              "      <td>married</td>\n",
              "      <td>secondary</td>\n",
              "      <td>no</td>\n",
              "      <td>2</td>\n",
              "      <td>yes</td>\n",
              "      <td>yes</td>\n",
              "      <td>unknown</td>\n",
              "      <td>5</td>\n",
              "      <td>may</td>\n",
              "      <td>76</td>\n",
              "      <td>1</td>\n",
              "      <td>no</td>\n",
              "    </tr>\n",
              "    <tr>\n",
              "      <th>3</th>\n",
              "      <td>47</td>\n",
              "      <td>blue-collar</td>\n",
              "      <td>married</td>\n",
              "      <td>unknown</td>\n",
              "      <td>no</td>\n",
              "      <td>1506</td>\n",
              "      <td>yes</td>\n",
              "      <td>no</td>\n",
              "      <td>unknown</td>\n",
              "      <td>5</td>\n",
              "      <td>may</td>\n",
              "      <td>92</td>\n",
              "      <td>1</td>\n",
              "      <td>no</td>\n",
              "    </tr>\n",
              "    <tr>\n",
              "      <th>4</th>\n",
              "      <td>33</td>\n",
              "      <td>unknown</td>\n",
              "      <td>single</td>\n",
              "      <td>unknown</td>\n",
              "      <td>no</td>\n",
              "      <td>1</td>\n",
              "      <td>no</td>\n",
              "      <td>no</td>\n",
              "      <td>unknown</td>\n",
              "      <td>5</td>\n",
              "      <td>may</td>\n",
              "      <td>198</td>\n",
              "      <td>1</td>\n",
              "      <td>no</td>\n",
              "    </tr>\n",
              "    <tr>\n",
              "      <th>5</th>\n",
              "      <td>35</td>\n",
              "      <td>management</td>\n",
              "      <td>married</td>\n",
              "      <td>tertiary</td>\n",
              "      <td>no</td>\n",
              "      <td>231</td>\n",
              "      <td>yes</td>\n",
              "      <td>no</td>\n",
              "      <td>unknown</td>\n",
              "      <td>5</td>\n",
              "      <td>may</td>\n",
              "      <td>139</td>\n",
              "      <td>1</td>\n",
              "      <td>no</td>\n",
              "    </tr>\n",
              "    <tr>\n",
              "      <th>6</th>\n",
              "      <td>28</td>\n",
              "      <td>management</td>\n",
              "      <td>single</td>\n",
              "      <td>tertiary</td>\n",
              "      <td>no</td>\n",
              "      <td>447</td>\n",
              "      <td>yes</td>\n",
              "      <td>yes</td>\n",
              "      <td>unknown</td>\n",
              "      <td>5</td>\n",
              "      <td>may</td>\n",
              "      <td>217</td>\n",
              "      <td>1</td>\n",
              "      <td>no</td>\n",
              "    </tr>\n",
              "    <tr>\n",
              "      <th>7</th>\n",
              "      <td>42</td>\n",
              "      <td>entrepreneur</td>\n",
              "      <td>divorced</td>\n",
              "      <td>tertiary</td>\n",
              "      <td>yes</td>\n",
              "      <td>2</td>\n",
              "      <td>yes</td>\n",
              "      <td>no</td>\n",
              "      <td>unknown</td>\n",
              "      <td>5</td>\n",
              "      <td>may</td>\n",
              "      <td>380</td>\n",
              "      <td>1</td>\n",
              "      <td>no</td>\n",
              "    </tr>\n",
              "    <tr>\n",
              "      <th>8</th>\n",
              "      <td>58</td>\n",
              "      <td>retired</td>\n",
              "      <td>married</td>\n",
              "      <td>primary</td>\n",
              "      <td>no</td>\n",
              "      <td>121</td>\n",
              "      <td>yes</td>\n",
              "      <td>no</td>\n",
              "      <td>unknown</td>\n",
              "      <td>5</td>\n",
              "      <td>may</td>\n",
              "      <td>50</td>\n",
              "      <td>1</td>\n",
              "      <td>no</td>\n",
              "    </tr>\n",
              "    <tr>\n",
              "      <th>9</th>\n",
              "      <td>43</td>\n",
              "      <td>technician</td>\n",
              "      <td>single</td>\n",
              "      <td>secondary</td>\n",
              "      <td>no</td>\n",
              "      <td>593</td>\n",
              "      <td>yes</td>\n",
              "      <td>no</td>\n",
              "      <td>unknown</td>\n",
              "      <td>5</td>\n",
              "      <td>may</td>\n",
              "      <td>55</td>\n",
              "      <td>1</td>\n",
              "      <td>no</td>\n",
              "    </tr>\n",
              "  </tbody>\n",
              "</table>\n",
              "</div>"
            ],
            "text/plain": [
              "   age           job   marital  education  ... month  duration campaign   y\n",
              "0   58    management   married   tertiary  ...   may       261        1  no\n",
              "1   44    technician    single  secondary  ...   may       151        1  no\n",
              "2   33  entrepreneur   married  secondary  ...   may        76        1  no\n",
              "3   47   blue-collar   married    unknown  ...   may        92        1  no\n",
              "4   33       unknown    single    unknown  ...   may       198        1  no\n",
              "5   35    management   married   tertiary  ...   may       139        1  no\n",
              "6   28    management    single   tertiary  ...   may       217        1  no\n",
              "7   42  entrepreneur  divorced   tertiary  ...   may       380        1  no\n",
              "8   58       retired   married    primary  ...   may        50        1  no\n",
              "9   43    technician    single  secondary  ...   may        55        1  no\n",
              "\n",
              "[10 rows x 14 columns]"
            ]
          },
          "metadata": {
            "tags": []
          },
          "execution_count": 2
        }
      ]
    },
    {
      "cell_type": "markdown",
      "metadata": {
        "id": "hCGrJNymgJlR"
      },
      "source": [
        "### 2. Inspecting Data"
      ]
    },
    {
      "cell_type": "code",
      "metadata": {
        "colab": {
          "base_uri": "https://localhost:8080/"
        },
        "id": "Fm446y23gnBP",
        "outputId": "f3a87086-aa83-4d52-9803-2e6b70357c64"
      },
      "source": [
        "# Inspect the shape of dataframe\r\n",
        "df.shape"
      ],
      "execution_count": 3,
      "outputs": [
        {
          "output_type": "execute_result",
          "data": {
            "text/plain": [
              "(40000, 14)"
            ]
          },
          "metadata": {
            "tags": []
          },
          "execution_count": 3
        }
      ]
    },
    {
      "cell_type": "code",
      "metadata": {
        "colab": {
          "base_uri": "https://localhost:8080/"
        },
        "id": "0SS9CTfAl-Ho",
        "outputId": "85c7d1d6-05ef-464e-dfd5-42946c32c653"
      },
      "source": [
        "# concise summary of the dataframe\r\n",
        "df.info()"
      ],
      "execution_count": 4,
      "outputs": [
        {
          "output_type": "stream",
          "text": [
            "<class 'pandas.core.frame.DataFrame'>\n",
            "RangeIndex: 40000 entries, 0 to 39999\n",
            "Data columns (total 14 columns):\n",
            " #   Column     Non-Null Count  Dtype \n",
            "---  ------     --------------  ----- \n",
            " 0   age        40000 non-null  int64 \n",
            " 1   job        40000 non-null  object\n",
            " 2   marital    40000 non-null  object\n",
            " 3   education  40000 non-null  object\n",
            " 4   default    40000 non-null  object\n",
            " 5   balance    40000 non-null  int64 \n",
            " 6   housing    40000 non-null  object\n",
            " 7   loan       40000 non-null  object\n",
            " 8   contact    40000 non-null  object\n",
            " 9   day        40000 non-null  int64 \n",
            " 10  month      40000 non-null  object\n",
            " 11  duration   40000 non-null  int64 \n",
            " 12  campaign   40000 non-null  int64 \n",
            " 13  y          40000 non-null  object\n",
            "dtypes: int64(5), object(9)\n",
            "memory usage: 4.3+ MB\n"
          ],
          "name": "stdout"
        }
      ]
    },
    {
      "cell_type": "code",
      "metadata": {
        "colab": {
          "base_uri": "https://localhost:8080/",
          "height": 0
        },
        "id": "d8MfMmlugbCZ",
        "outputId": "1a732742-90e4-47de-c53d-05610cf267ca"
      },
      "source": [
        "# Descriptive statistics for numeric features\r\n",
        "df.describe()"
      ],
      "execution_count": 5,
      "outputs": [
        {
          "output_type": "execute_result",
          "data": {
            "text/html": [
              "<div>\n",
              "<style scoped>\n",
              "    .dataframe tbody tr th:only-of-type {\n",
              "        vertical-align: middle;\n",
              "    }\n",
              "\n",
              "    .dataframe tbody tr th {\n",
              "        vertical-align: top;\n",
              "    }\n",
              "\n",
              "    .dataframe thead th {\n",
              "        text-align: right;\n",
              "    }\n",
              "</style>\n",
              "<table border=\"1\" class=\"dataframe\">\n",
              "  <thead>\n",
              "    <tr style=\"text-align: right;\">\n",
              "      <th></th>\n",
              "      <th>age</th>\n",
              "      <th>balance</th>\n",
              "      <th>day</th>\n",
              "      <th>duration</th>\n",
              "      <th>campaign</th>\n",
              "    </tr>\n",
              "  </thead>\n",
              "  <tbody>\n",
              "    <tr>\n",
              "      <th>count</th>\n",
              "      <td>40000.000000</td>\n",
              "      <td>40000.000000</td>\n",
              "      <td>40000.000000</td>\n",
              "      <td>40000.000000</td>\n",
              "      <td>40000.000000</td>\n",
              "    </tr>\n",
              "    <tr>\n",
              "      <th>mean</th>\n",
              "      <td>40.544600</td>\n",
              "      <td>1274.277550</td>\n",
              "      <td>16.017225</td>\n",
              "      <td>254.824300</td>\n",
              "      <td>2.882175</td>\n",
              "    </tr>\n",
              "    <tr>\n",
              "      <th>std</th>\n",
              "      <td>9.641776</td>\n",
              "      <td>2903.769716</td>\n",
              "      <td>8.278127</td>\n",
              "      <td>259.366498</td>\n",
              "      <td>3.239051</td>\n",
              "    </tr>\n",
              "    <tr>\n",
              "      <th>min</th>\n",
              "      <td>19.000000</td>\n",
              "      <td>-8019.000000</td>\n",
              "      <td>1.000000</td>\n",
              "      <td>0.000000</td>\n",
              "      <td>1.000000</td>\n",
              "    </tr>\n",
              "    <tr>\n",
              "      <th>25%</th>\n",
              "      <td>33.000000</td>\n",
              "      <td>54.000000</td>\n",
              "      <td>8.000000</td>\n",
              "      <td>100.000000</td>\n",
              "      <td>1.000000</td>\n",
              "    </tr>\n",
              "    <tr>\n",
              "      <th>50%</th>\n",
              "      <td>39.000000</td>\n",
              "      <td>407.000000</td>\n",
              "      <td>17.000000</td>\n",
              "      <td>175.000000</td>\n",
              "      <td>2.000000</td>\n",
              "    </tr>\n",
              "    <tr>\n",
              "      <th>75%</th>\n",
              "      <td>48.000000</td>\n",
              "      <td>1319.000000</td>\n",
              "      <td>21.000000</td>\n",
              "      <td>313.000000</td>\n",
              "      <td>3.000000</td>\n",
              "    </tr>\n",
              "    <tr>\n",
              "      <th>max</th>\n",
              "      <td>95.000000</td>\n",
              "      <td>102127.000000</td>\n",
              "      <td>31.000000</td>\n",
              "      <td>4918.000000</td>\n",
              "      <td>63.000000</td>\n",
              "    </tr>\n",
              "  </tbody>\n",
              "</table>\n",
              "</div>"
            ],
            "text/plain": [
              "                age        balance           day      duration      campaign\n",
              "count  40000.000000   40000.000000  40000.000000  40000.000000  40000.000000\n",
              "mean      40.544600    1274.277550     16.017225    254.824300      2.882175\n",
              "std        9.641776    2903.769716      8.278127    259.366498      3.239051\n",
              "min       19.000000   -8019.000000      1.000000      0.000000      1.000000\n",
              "25%       33.000000      54.000000      8.000000    100.000000      1.000000\n",
              "50%       39.000000     407.000000     17.000000    175.000000      2.000000\n",
              "75%       48.000000    1319.000000     21.000000    313.000000      3.000000\n",
              "max       95.000000  102127.000000     31.000000   4918.000000     63.000000"
            ]
          },
          "metadata": {
            "tags": []
          },
          "execution_count": 5
        }
      ]
    },
    {
      "cell_type": "code",
      "metadata": {
        "colab": {
          "base_uri": "https://localhost:8080/",
          "height": 0
        },
        "id": "1szVd-LBmE_3",
        "outputId": "2ff1334c-e474-41a4-edaa-2aae00070147"
      },
      "source": [
        "# Descriptive statistics for object features\r\n",
        "df.describe(include=['O'])"
      ],
      "execution_count": 6,
      "outputs": [
        {
          "output_type": "execute_result",
          "data": {
            "text/html": [
              "<div>\n",
              "<style scoped>\n",
              "    .dataframe tbody tr th:only-of-type {\n",
              "        vertical-align: middle;\n",
              "    }\n",
              "\n",
              "    .dataframe tbody tr th {\n",
              "        vertical-align: top;\n",
              "    }\n",
              "\n",
              "    .dataframe thead th {\n",
              "        text-align: right;\n",
              "    }\n",
              "</style>\n",
              "<table border=\"1\" class=\"dataframe\">\n",
              "  <thead>\n",
              "    <tr style=\"text-align: right;\">\n",
              "      <th></th>\n",
              "      <th>job</th>\n",
              "      <th>marital</th>\n",
              "      <th>education</th>\n",
              "      <th>default</th>\n",
              "      <th>housing</th>\n",
              "      <th>loan</th>\n",
              "      <th>contact</th>\n",
              "      <th>month</th>\n",
              "      <th>y</th>\n",
              "    </tr>\n",
              "  </thead>\n",
              "  <tbody>\n",
              "    <tr>\n",
              "      <th>count</th>\n",
              "      <td>40000</td>\n",
              "      <td>40000</td>\n",
              "      <td>40000</td>\n",
              "      <td>40000</td>\n",
              "      <td>40000</td>\n",
              "      <td>40000</td>\n",
              "      <td>40000</td>\n",
              "      <td>40000</td>\n",
              "      <td>40000</td>\n",
              "    </tr>\n",
              "    <tr>\n",
              "      <th>unique</th>\n",
              "      <td>12</td>\n",
              "      <td>3</td>\n",
              "      <td>4</td>\n",
              "      <td>2</td>\n",
              "      <td>2</td>\n",
              "      <td>2</td>\n",
              "      <td>3</td>\n",
              "      <td>11</td>\n",
              "      <td>2</td>\n",
              "    </tr>\n",
              "    <tr>\n",
              "      <th>top</th>\n",
              "      <td>blue-collar</td>\n",
              "      <td>married</td>\n",
              "      <td>secondary</td>\n",
              "      <td>no</td>\n",
              "      <td>yes</td>\n",
              "      <td>no</td>\n",
              "      <td>cellular</td>\n",
              "      <td>may</td>\n",
              "      <td>no</td>\n",
              "    </tr>\n",
              "    <tr>\n",
              "      <th>freq</th>\n",
              "      <td>9383</td>\n",
              "      <td>24386</td>\n",
              "      <td>20993</td>\n",
              "      <td>39191</td>\n",
              "      <td>24031</td>\n",
              "      <td>33070</td>\n",
              "      <td>24914</td>\n",
              "      <td>13532</td>\n",
              "      <td>37104</td>\n",
              "    </tr>\n",
              "  </tbody>\n",
              "</table>\n",
              "</div>"
            ],
            "text/plain": [
              "                job  marital  education default  ...   loan   contact  month      y\n",
              "count         40000    40000      40000   40000  ...  40000     40000  40000  40000\n",
              "unique           12        3          4       2  ...      2         3     11      2\n",
              "top     blue-collar  married  secondary      no  ...     no  cellular    may     no\n",
              "freq           9383    24386      20993   39191  ...  33070     24914  13532  37104\n",
              "\n",
              "[4 rows x 9 columns]"
            ]
          },
          "metadata": {
            "tags": []
          },
          "execution_count": 6
        }
      ]
    },
    {
      "cell_type": "code",
      "metadata": {
        "colab": {
          "base_uri": "https://localhost:8080/"
        },
        "id": "mYVH0PygasUE",
        "outputId": "5c16ffba-4647-4beb-b49a-a648f35b1f72"
      },
      "source": [
        "# check null values\r\n",
        "df.isnull().sum()"
      ],
      "execution_count": 7,
      "outputs": [
        {
          "output_type": "execute_result",
          "data": {
            "text/plain": [
              "age          0\n",
              "job          0\n",
              "marital      0\n",
              "education    0\n",
              "default      0\n",
              "balance      0\n",
              "housing      0\n",
              "loan         0\n",
              "contact      0\n",
              "day          0\n",
              "month        0\n",
              "duration     0\n",
              "campaign     0\n",
              "y            0\n",
              "dtype: int64"
            ]
          },
          "metadata": {
            "tags": []
          },
          "execution_count": 7
        }
      ]
    },
    {
      "cell_type": "code",
      "metadata": {
        "colab": {
          "base_uri": "https://localhost:8080/"
        },
        "id": "RVekcnehaz78",
        "outputId": "e80c0bd2-e100-4199-f25c-b9b61fa9f04a"
      },
      "source": [
        "# check duplicated observations\r\n",
        "df.duplicated().sum()"
      ],
      "execution_count": 8,
      "outputs": [
        {
          "output_type": "execute_result",
          "data": {
            "text/plain": [
              "0"
            ]
          },
          "metadata": {
            "tags": []
          },
          "execution_count": 8
        }
      ]
    },
    {
      "cell_type": "markdown",
      "metadata": {
        "id": "9HA8DxZGSvtn"
      },
      "source": [
        "### 3. Exploratory Data Analysis"
      ]
    },
    {
      "cell_type": "markdown",
      "metadata": {
        "id": "GNgsroKPWpYY"
      },
      "source": [
        "#### Age"
      ]
    },
    {
      "cell_type": "code",
      "metadata": {
        "colab": {
          "base_uri": "https://localhost:8080/",
          "height": 441
        },
        "id": "nnwzs7sXD4Ay",
        "outputId": "71dd50d0-c0c7-4b31-fef6-f62f6806eb96"
      },
      "source": [
        "sns.displot(df.age, bins=30, height=6, aspect=1.5);"
      ],
      "execution_count": 9,
      "outputs": [
        {
          "output_type": "display_data",
          "data": {
            "image/png": "[encoded data removed]",
            "text/plain": [
              "<Figure size 648x432 with 1 Axes>"
            ]
          },
          "metadata": {
            "tags": [],
            "needs_background": "light"
          }
        }
      ]
    },
    {
      "cell_type": "markdown",
      "metadata": {
        "id": "p13M7qqxTMg_"
      },
      "source": [
        "We see a right skewed plot on \"age\" histogram."
      ]
    },
    {
      "cell_type": "code",
      "metadata": {
        "colab": {
          "base_uri": "https://localhost:8080/",
          "height": 136
        },
        "id": "4Wcom5-XfkgG",
        "outputId": "526d342f-b8f6-4fe6-a129-766558654a29"
      },
      "source": [
        "# summary statistics for age\r\n",
        "df.groupby(\"y\")[\"age\"].describe()"
      ],
      "execution_count": 10,
      "outputs": [
        {
          "output_type": "execute_result",
          "data": {
            "text/html": [
              "<div>\n",
              "<style scoped>\n",
              "    .dataframe tbody tr th:only-of-type {\n",
              "        vertical-align: middle;\n",
              "    }\n",
              "\n",
              "    .dataframe tbody tr th {\n",
              "        vertical-align: top;\n",
              "    }\n",
              "\n",
              "    .dataframe thead th {\n",
              "        text-align: right;\n",
              "    }\n",
              "</style>\n",
              "<table border=\"1\" class=\"dataframe\">\n",
              "  <thead>\n",
              "    <tr style=\"text-align: right;\">\n",
              "      <th></th>\n",
              "      <th>count</th>\n",
              "      <th>mean</th>\n",
              "      <th>std</th>\n",
              "      <th>min</th>\n",
              "      <th>25%</th>\n",
              "      <th>50%</th>\n",
              "      <th>75%</th>\n",
              "      <th>max</th>\n",
              "    </tr>\n",
              "    <tr>\n",
              "      <th>y</th>\n",
              "      <th></th>\n",
              "      <th></th>\n",
              "      <th></th>\n",
              "      <th></th>\n",
              "      <th></th>\n",
              "      <th></th>\n",
              "      <th></th>\n",
              "      <th></th>\n",
              "    </tr>\n",
              "  </thead>\n",
              "  <tbody>\n",
              "    <tr>\n",
              "      <th>no</th>\n",
              "      <td>37104.0</td>\n",
              "      <td>40.599208</td>\n",
              "      <td>9.525450</td>\n",
              "      <td>19.0</td>\n",
              "      <td>33.0</td>\n",
              "      <td>39.0</td>\n",
              "      <td>48.0</td>\n",
              "      <td>94.0</td>\n",
              "    </tr>\n",
              "    <tr>\n",
              "      <th>yes</th>\n",
              "      <td>2896.0</td>\n",
              "      <td>39.844959</td>\n",
              "      <td>11.001984</td>\n",
              "      <td>19.0</td>\n",
              "      <td>31.0</td>\n",
              "      <td>37.0</td>\n",
              "      <td>47.0</td>\n",
              "      <td>95.0</td>\n",
              "    </tr>\n",
              "  </tbody>\n",
              "</table>\n",
              "</div>"
            ],
            "text/plain": [
              "       count       mean        std   min   25%   50%   75%   max\n",
              "y                                                               \n",
              "no   37104.0  40.599208   9.525450  19.0  33.0  39.0  48.0  94.0\n",
              "yes   2896.0  39.844959  11.001984  19.0  31.0  37.0  47.0  95.0"
            ]
          },
          "metadata": {
            "tags": []
          },
          "execution_count": 10
        }
      ]
    },
    {
      "cell_type": "markdown",
      "metadata": {
        "id": "NNql-I3DgOVl"
      },
      "source": [
        "We can't see a salient difference between subscribed and not subscribed customers related to \"age\" feature."
      ]
    },
    {
      "cell_type": "code",
      "metadata": {
        "id": "F6iJEQNGvtfg"
      },
      "source": [
        "from scipy.stats import boxcox\r\n",
        "\r\n",
        "# Box-Cox log transformation\r\n",
        "df[\"age\"] = boxcox(df[\"age\"], lmbda=0.0)"
      ],
      "execution_count": 11,
      "outputs": []
    },
    {
      "cell_type": "code",
      "metadata": {
        "colab": {
          "base_uri": "https://localhost:8080/",
          "height": 441
        },
        "id": "cAXRNdmdwp8P",
        "outputId": "8f8a1a22-a512-408e-99dc-b17efc95487a"
      },
      "source": [
        "sns.displot(df.age, bins=30, height=6, aspect=1.5);"
      ],
      "execution_count": 12,
      "outputs": [
        {
          "output_type": "display_data",
          "data": {
            "image/png": "[encoded data removed]",
            "text/plain": [
              "<Figure size 648x432 with 1 Axes>"
            ]
          },
          "metadata": {
            "tags": [],
            "needs_background": "light"
          }
        }
      ]
    },
    {
      "cell_type": "markdown",
      "metadata": {
        "id": "B-iDM5V9WtO5"
      },
      "source": [
        "#### Balance"
      ]
    },
    {
      "cell_type": "code",
      "metadata": {
        "colab": {
          "base_uri": "https://localhost:8080/",
          "height": 0
        },
        "id": "gEmo4oKYD39k",
        "outputId": "6906f75b-3499-4fe1-b082-90b0a504b26c"
      },
      "source": [
        "plt.figure(figsize=(10,6))\r\n",
        "sns.boxplot(x='y',y='balance', data=df);"
      ],
      "execution_count": 13,
      "outputs": [
        {
          "output_type": "display_data",
          "data": {
            "image/png": "[encoded data removed]",
            "text/plain": [
              "<Figure size 720x432 with 1 Axes>"
            ]
          },
          "metadata": {
            "tags": [],
            "needs_background": "light"
          }
        }
      ]
    },
    {
      "cell_type": "markdown",
      "metadata": {
        "id": "MhjpCYkOTZZb"
      },
      "source": [
        "Because of high variance and outliers in \"balance\", we **can not** get a clear understanding from the above plot. \r\n",
        "\r\n",
        "We can calculate the summary statistics for the balance, grouped by the target feature."
      ]
    },
    {
      "cell_type": "code",
      "metadata": {
        "colab": {
          "base_uri": "https://localhost:8080/",
          "height": 0
        },
        "id": "Jz6AzC7EY711",
        "outputId": "4241b6e6-46d0-465d-a88b-8a23d8f891ed"
      },
      "source": [
        "df.groupby('y')['balance'].describe()"
      ],
      "execution_count": 14,
      "outputs": [
        {
          "output_type": "execute_result",
          "data": {
            "text/html": [
              "<div>\n",
              "<style scoped>\n",
              "    .dataframe tbody tr th:only-of-type {\n",
              "        vertical-align: middle;\n",
              "    }\n",
              "\n",
              "    .dataframe tbody tr th {\n",
              "        vertical-align: top;\n",
              "    }\n",
              "\n",
              "    .dataframe thead th {\n",
              "        text-align: right;\n",
              "    }\n",
              "</style>\n",
              "<table border=\"1\" class=\"dataframe\">\n",
              "  <thead>\n",
              "    <tr style=\"text-align: right;\">\n",
              "      <th></th>\n",
              "      <th>count</th>\n",
              "      <th>mean</th>\n",
              "      <th>std</th>\n",
              "      <th>min</th>\n",
              "      <th>25%</th>\n",
              "      <th>50%</th>\n",
              "      <th>75%</th>\n",
              "      <th>max</th>\n",
              "    </tr>\n",
              "    <tr>\n",
              "      <th>y</th>\n",
              "      <th></th>\n",
              "      <th></th>\n",
              "      <th></th>\n",
              "      <th></th>\n",
              "      <th></th>\n",
              "      <th></th>\n",
              "      <th></th>\n",
              "      <th></th>\n",
              "    </tr>\n",
              "  </thead>\n",
              "  <tbody>\n",
              "    <tr>\n",
              "      <th>no</th>\n",
              "      <td>37104.0</td>\n",
              "      <td>1249.752533</td>\n",
              "      <td>2900.722436</td>\n",
              "      <td>-8019.0</td>\n",
              "      <td>50.0</td>\n",
              "      <td>395.0</td>\n",
              "      <td>1286.0</td>\n",
              "      <td>102127.0</td>\n",
              "    </tr>\n",
              "    <tr>\n",
              "      <th>yes</th>\n",
              "      <td>2896.0</td>\n",
              "      <td>1588.495856</td>\n",
              "      <td>2924.894429</td>\n",
              "      <td>-3058.0</td>\n",
              "      <td>141.0</td>\n",
              "      <td>620.0</td>\n",
              "      <td>1820.5</td>\n",
              "      <td>45248.0</td>\n",
              "    </tr>\n",
              "  </tbody>\n",
              "</table>\n",
              "</div>"
            ],
            "text/plain": [
              "       count         mean          std     min    25%    50%     75%       max\n",
              "y                                                                             \n",
              "no   37104.0  1249.752533  2900.722436 -8019.0   50.0  395.0  1286.0  102127.0\n",
              "yes   2896.0  1588.495856  2924.894429 -3058.0  141.0  620.0  1820.5   45248.0"
            ]
          },
          "metadata": {
            "tags": []
          },
          "execution_count": 14
        }
      ]
    },
    {
      "cell_type": "markdown",
      "metadata": {
        "id": "4Fo92DWq1dmW"
      },
      "source": [
        "Winsorize 'balance' with 5% upper and lower limits can provide a better graph."
      ]
    },
    {
      "cell_type": "code",
      "metadata": {
        "id": "WOWcqk-QuQ1Y"
      },
      "source": [
        "from scipy.stats.mstats import winsorize\r\n",
        "\r\n",
        "# Winsorize 'balance' with 5% upper and lower limits \r\n",
        "df[\"balance\"] = winsorize(df['balance'], limits=[0.05, 0.05])"
      ],
      "execution_count": 15,
      "outputs": []
    },
    {
      "cell_type": "code",
      "metadata": {
        "colab": {
          "base_uri": "https://localhost:8080/",
          "height": 0
        },
        "id": "J0g0eMsauvA9",
        "outputId": "c9384f0c-464e-42cb-ac13-82b3eefb06af"
      },
      "source": [
        "plt.figure(figsize=(10,6))\r\n",
        "sns.boxplot(x='y',y='balance', data=df);"
      ],
      "execution_count": 16,
      "outputs": [
        {
          "output_type": "display_data",
          "data": {
            "image/png": "[encoded data removed]",
            "text/plain": [
              "<Figure size 720x432 with 1 Axes>"
            ]
          },
          "metadata": {
            "tags": [],
            "needs_background": "light"
          }
        }
      ]
    },
    {
      "cell_type": "markdown",
      "metadata": {
        "id": "6dJXY-opUF4_"
      },
      "source": [
        "The median balance of subscribed customers is slightly higher than that of not subscribed customers. "
      ]
    },
    {
      "cell_type": "markdown",
      "metadata": {
        "id": "_vkiLLaUW3hn"
      },
      "source": [
        "#### Duration"
      ]
    },
    {
      "cell_type": "code",
      "metadata": {
        "colab": {
          "base_uri": "https://localhost:8080/",
          "height": 394
        },
        "id": "juYbHJ6pq9dw",
        "outputId": "4664c193-6d34-47b3-b816-7b1bcac3cea8"
      },
      "source": [
        "# Univariate and Multivariate boxplot\r\n",
        "fig, ax = plt.subplots(1,2, figsize=(12,6))\r\n",
        "sns.boxplot(y=df['duration'], ax=ax[0])\r\n",
        "sns.boxplot(x='y', y='duration', data=df, ax=ax[1]);"
      ],
      "execution_count": 17,
      "outputs": [
        {
          "output_type": "display_data",
          "data": {
            "image/png": "[encoded data removed]",
            "text/plain": [
              "<Figure size 864x432 with 2 Axes>"
            ]
          },
          "metadata": {
            "tags": [],
            "needs_background": "light"
          }
        }
      ]
    },
    {
      "cell_type": "markdown",
      "metadata": {
        "id": "v_NIgRsuXRoP"
      },
      "source": [
        "Winsorizing upper 1 percent can provide a better graph."
      ]
    },
    {
      "cell_type": "code",
      "metadata": {
        "id": "_BTWM6NgyoN6"
      },
      "source": [
        "df[\"duration\"] = winsorize(df['duration'], limits=[None, 0.01])"
      ],
      "execution_count": 18,
      "outputs": []
    },
    {
      "cell_type": "code",
      "metadata": {
        "colab": {
          "base_uri": "https://localhost:8080/",
          "height": 394
        },
        "id": "dt_9Rw-JW93x",
        "outputId": "55103d6d-2254-4c4e-c73e-5512d0590498"
      },
      "source": [
        "plt.figure(figsize=(10,6))\r\n",
        "sns.boxplot(x='y',y='duration', data=df);"
      ],
      "execution_count": 19,
      "outputs": [
        {
          "output_type": "display_data",
          "data": {
            "image/png": "[encoded data removed]",
            "text/plain": [
              "<Figure size 720x432 with 1 Axes>"
            ]
          },
          "metadata": {
            "tags": [],
            "needs_background": "light"
          }
        }
      ]
    },
    {
      "cell_type": "markdown",
      "metadata": {
        "id": "iz73gHAjXhxQ"
      },
      "source": [
        "It can be clearly seen that, on average, last contact durations of subscribed customers are higher than those of not subscribed customers."
      ]
    },
    {
      "cell_type": "markdown",
      "metadata": {
        "id": "ehEgfwE-chDI"
      },
      "source": [
        "#### job\r\n"
      ]
    },
    {
      "cell_type": "code",
      "metadata": {
        "colab": {
          "base_uri": "https://localhost:8080/"
        },
        "id": "WgzVpPEejfYq",
        "outputId": "9c4061f7-0393-4f18-d3ef-34f18727aee5"
      },
      "source": [
        "df.job.value_counts()"
      ],
      "execution_count": 20,
      "outputs": [
        {
          "output_type": "execute_result",
          "data": {
            "text/plain": [
              "blue-collar      9383\n",
              "management       8166\n",
              "technician       6852\n",
              "admin            4483\n",
              "services         3910\n",
              "retired          1437\n",
              "self-employed    1414\n",
              "entrepreneur     1405\n",
              "unemployed       1104\n",
              "housemaid        1087\n",
              "student           524\n",
              "unknown           235\n",
              "Name: job, dtype: int64"
            ]
          },
          "metadata": {
            "tags": []
          },
          "execution_count": 20
        }
      ]
    },
    {
      "cell_type": "code",
      "metadata": {
        "colab": {
          "base_uri": "https://localhost:8080/",
          "height": 0
        },
        "id": "TRA23fOekFw7",
        "outputId": "5977f4a4-046d-4fd4-dcca-52ed517c36b6"
      },
      "source": [
        "plt.figure(figsize=(12,8))\r\n",
        "sns.countplot(y='job', data=df, order= df.job.value_counts().index, palette=\"coolwarm\");"
      ],
      "execution_count": 21,
      "outputs": [
        {
          "output_type": "display_data",
          "data": {
            "image/png": "[encoded data removed]",
            "text/plain": [
              "<Figure size 864x576 with 1 Axes>"
            ]
          },
          "metadata": {
            "tags": [],
            "needs_background": "light"
          }
        }
      ]
    },
    {
      "cell_type": "markdown",
      "metadata": {
        "id": "v4XU-d6VmFkC"
      },
      "source": [
        "Top 3 \"job\" types in the dataset are blue-collar, management and technician."
      ]
    },
    {
      "cell_type": "markdown",
      "metadata": {
        "id": "a1L0elBleu7g"
      },
      "source": [
        "We can get subscription percentage of each job type as below: "
      ]
    },
    {
      "cell_type": "code",
      "metadata": {
        "colab": {
          "base_uri": "https://localhost:8080/",
          "height": 0
        },
        "id": "mrCMnzm0dPa_",
        "outputId": "316d36eb-ba10-4d5b-f2c5-51c2e3d3d3ff"
      },
      "source": [
        "df_job = df.groupby(\"job\")[\"y\"].value_counts(normalize=True).reset_index(name=\"percentage\").sort_values([\"y\", \"percentage\"])\r\n",
        "df_job"
      ],
      "execution_count": 22,
      "outputs": [
        {
          "output_type": "execute_result",
          "data": {
            "text/html": [
              "<div>\n",
              "<style scoped>\n",
              "    .dataframe tbody tr th:only-of-type {\n",
              "        vertical-align: middle;\n",
              "    }\n",
              "\n",
              "    .dataframe tbody tr th {\n",
              "        vertical-align: top;\n",
              "    }\n",
              "\n",
              "    .dataframe thead th {\n",
              "        text-align: right;\n",
              "    }\n",
              "</style>\n",
              "<table border=\"1\" class=\"dataframe\">\n",
              "  <thead>\n",
              "    <tr style=\"text-align: right;\">\n",
              "      <th></th>\n",
              "      <th>job</th>\n",
              "      <th>y</th>\n",
              "      <th>percentage</th>\n",
              "    </tr>\n",
              "  </thead>\n",
              "  <tbody>\n",
              "    <tr>\n",
              "      <th>16</th>\n",
              "      <td>student</td>\n",
              "      <td>no</td>\n",
              "      <td>0.843511</td>\n",
              "    </tr>\n",
              "    <tr>\n",
              "      <th>10</th>\n",
              "      <td>retired</td>\n",
              "      <td>no</td>\n",
              "      <td>0.894920</td>\n",
              "    </tr>\n",
              "    <tr>\n",
              "      <th>20</th>\n",
              "      <td>unemployed</td>\n",
              "      <td>no</td>\n",
              "      <td>0.913043</td>\n",
              "    </tr>\n",
              "    <tr>\n",
              "      <th>8</th>\n",
              "      <td>management</td>\n",
              "      <td>no</td>\n",
              "      <td>0.917218</td>\n",
              "    </tr>\n",
              "    <tr>\n",
              "      <th>12</th>\n",
              "      <td>self-employed</td>\n",
              "      <td>no</td>\n",
              "      <td>0.920792</td>\n",
              "    </tr>\n",
              "    <tr>\n",
              "      <th>0</th>\n",
              "      <td>admin</td>\n",
              "      <td>no</td>\n",
              "      <td>0.921704</td>\n",
              "    </tr>\n",
              "    <tr>\n",
              "      <th>18</th>\n",
              "      <td>technician</td>\n",
              "      <td>no</td>\n",
              "      <td>0.927466</td>\n",
              "    </tr>\n",
              "    <tr>\n",
              "      <th>22</th>\n",
              "      <td>unknown</td>\n",
              "      <td>no</td>\n",
              "      <td>0.927660</td>\n",
              "    </tr>\n",
              "    <tr>\n",
              "      <th>4</th>\n",
              "      <td>entrepreneur</td>\n",
              "      <td>no</td>\n",
              "      <td>0.937367</td>\n",
              "    </tr>\n",
              "    <tr>\n",
              "      <th>14</th>\n",
              "      <td>services</td>\n",
              "      <td>no</td>\n",
              "      <td>0.939130</td>\n",
              "    </tr>\n",
              "    <tr>\n",
              "      <th>2</th>\n",
              "      <td>blue-collar</td>\n",
              "      <td>no</td>\n",
              "      <td>0.942982</td>\n",
              "    </tr>\n",
              "    <tr>\n",
              "      <th>6</th>\n",
              "      <td>housemaid</td>\n",
              "      <td>no</td>\n",
              "      <td>0.951242</td>\n",
              "    </tr>\n",
              "    <tr>\n",
              "      <th>7</th>\n",
              "      <td>housemaid</td>\n",
              "      <td>yes</td>\n",
              "      <td>0.048758</td>\n",
              "    </tr>\n",
              "    <tr>\n",
              "      <th>3</th>\n",
              "      <td>blue-collar</td>\n",
              "      <td>yes</td>\n",
              "      <td>0.057018</td>\n",
              "    </tr>\n",
              "    <tr>\n",
              "      <th>15</th>\n",
              "      <td>services</td>\n",
              "      <td>yes</td>\n",
              "      <td>0.060870</td>\n",
              "    </tr>\n",
              "    <tr>\n",
              "      <th>5</th>\n",
              "      <td>entrepreneur</td>\n",
              "      <td>yes</td>\n",
              "      <td>0.062633</td>\n",
              "    </tr>\n",
              "    <tr>\n",
              "      <th>23</th>\n",
              "      <td>unknown</td>\n",
              "      <td>yes</td>\n",
              "      <td>0.072340</td>\n",
              "    </tr>\n",
              "    <tr>\n",
              "      <th>19</th>\n",
              "      <td>technician</td>\n",
              "      <td>yes</td>\n",
              "      <td>0.072534</td>\n",
              "    </tr>\n",
              "    <tr>\n",
              "      <th>1</th>\n",
              "      <td>admin</td>\n",
              "      <td>yes</td>\n",
              "      <td>0.078296</td>\n",
              "    </tr>\n",
              "    <tr>\n",
              "      <th>13</th>\n",
              "      <td>self-employed</td>\n",
              "      <td>yes</td>\n",
              "      <td>0.079208</td>\n",
              "    </tr>\n",
              "    <tr>\n",
              "      <th>9</th>\n",
              "      <td>management</td>\n",
              "      <td>yes</td>\n",
              "      <td>0.082782</td>\n",
              "    </tr>\n",
              "    <tr>\n",
              "      <th>21</th>\n",
              "      <td>unemployed</td>\n",
              "      <td>yes</td>\n",
              "      <td>0.086957</td>\n",
              "    </tr>\n",
              "    <tr>\n",
              "      <th>11</th>\n",
              "      <td>retired</td>\n",
              "      <td>yes</td>\n",
              "      <td>0.105080</td>\n",
              "    </tr>\n",
              "    <tr>\n",
              "      <th>17</th>\n",
              "      <td>student</td>\n",
              "      <td>yes</td>\n",
              "      <td>0.156489</td>\n",
              "    </tr>\n",
              "  </tbody>\n",
              "</table>\n",
              "</div>"
            ],
            "text/plain": [
              "              job    y  percentage\n",
              "16        student   no    0.843511\n",
              "10        retired   no    0.894920\n",
              "20     unemployed   no    0.913043\n",
              "8      management   no    0.917218\n",
              "12  self-employed   no    0.920792\n",
              "0           admin   no    0.921704\n",
              "18     technician   no    0.927466\n",
              "22        unknown   no    0.927660\n",
              "4    entrepreneur   no    0.937367\n",
              "14       services   no    0.939130\n",
              "2     blue-collar   no    0.942982\n",
              "6       housemaid   no    0.951242\n",
              "7       housemaid  yes    0.048758\n",
              "3     blue-collar  yes    0.057018\n",
              "15       services  yes    0.060870\n",
              "5    entrepreneur  yes    0.062633\n",
              "23        unknown  yes    0.072340\n",
              "19     technician  yes    0.072534\n",
              "1           admin  yes    0.078296\n",
              "13  self-employed  yes    0.079208\n",
              "9      management  yes    0.082782\n",
              "21     unemployed  yes    0.086957\n",
              "11        retired  yes    0.105080\n",
              "17        student  yes    0.156489"
            ]
          },
          "metadata": {
            "tags": []
          },
          "execution_count": 22
        }
      ]
    },
    {
      "cell_type": "code",
      "metadata": {
        "colab": {
          "base_uri": "https://localhost:8080/",
          "height": 0
        },
        "id": "9DjdXE5aahsk",
        "outputId": "63b50efc-f962-4b46-9229-2abae0a143d9"
      },
      "source": [
        "plt.figure(figsize=(18,5))\r\n",
        "sns.barplot(x='job', y=\"percentage\", data=df_job, hue='y');"
      ],
      "execution_count": 23,
      "outputs": [
        {
          "output_type": "display_data",
          "data": {
            "image/png": "[encoded data removed]",
            "text/plain": [
              "<Figure size 1296x360 with 1 Axes>"
            ]
          },
          "metadata": {
            "tags": [],
            "needs_background": "light"
          }
        }
      ]
    },
    {
      "cell_type": "markdown",
      "metadata": {
        "id": "LbfvXqTegvbY"
      },
      "source": [
        "As can bee seen, students has the highest subscription percentage. Then it comes the retired customers. "
      ]
    },
    {
      "cell_type": "markdown",
      "metadata": {
        "id": "NM8tkBvFhE3H"
      },
      "source": [
        "#### marital"
      ]
    },
    {
      "cell_type": "code",
      "metadata": {
        "colab": {
          "base_uri": "https://localhost:8080/"
        },
        "id": "cAwwYhsgmXJR",
        "outputId": "cde2753e-9c6d-428a-9d14-f32ab81981c6"
      },
      "source": [
        "df.marital.value_counts()"
      ],
      "execution_count": 24,
      "outputs": [
        {
          "output_type": "execute_result",
          "data": {
            "text/plain": [
              "married     24386\n",
              "single      10889\n",
              "divorced     4725\n",
              "Name: marital, dtype: int64"
            ]
          },
          "metadata": {
            "tags": []
          },
          "execution_count": 24
        }
      ]
    },
    {
      "cell_type": "code",
      "metadata": {
        "colab": {
          "base_uri": "https://localhost:8080/",
          "height": 0
        },
        "id": "6h5bE5G3hLZt",
        "outputId": "b132cb0e-c07a-4be3-f457-b868363c102c"
      },
      "source": [
        "df_marital = df.groupby(\"marital\")[\"y\"].value_counts(normalize=True).reset_index(name=\"percentage\").sort_values([\"y\", \"percentage\"])\r\n",
        "df_marital"
      ],
      "execution_count": 25,
      "outputs": [
        {
          "output_type": "execute_result",
          "data": {
            "text/html": [
              "<div>\n",
              "<style scoped>\n",
              "    .dataframe tbody tr th:only-of-type {\n",
              "        vertical-align: middle;\n",
              "    }\n",
              "\n",
              "    .dataframe tbody tr th {\n",
              "        vertical-align: top;\n",
              "    }\n",
              "\n",
              "    .dataframe thead th {\n",
              "        text-align: right;\n",
              "    }\n",
              "</style>\n",
              "<table border=\"1\" class=\"dataframe\">\n",
              "  <thead>\n",
              "    <tr style=\"text-align: right;\">\n",
              "      <th></th>\n",
              "      <th>marital</th>\n",
              "      <th>y</th>\n",
              "      <th>percentage</th>\n",
              "    </tr>\n",
              "  </thead>\n",
              "  <tbody>\n",
              "    <tr>\n",
              "      <th>4</th>\n",
              "      <td>single</td>\n",
              "      <td>no</td>\n",
              "      <td>0.905685</td>\n",
              "    </tr>\n",
              "    <tr>\n",
              "      <th>0</th>\n",
              "      <td>divorced</td>\n",
              "      <td>no</td>\n",
              "      <td>0.917249</td>\n",
              "    </tr>\n",
              "    <tr>\n",
              "      <th>2</th>\n",
              "      <td>married</td>\n",
              "      <td>no</td>\n",
              "      <td>0.939391</td>\n",
              "    </tr>\n",
              "    <tr>\n",
              "      <th>3</th>\n",
              "      <td>married</td>\n",
              "      <td>yes</td>\n",
              "      <td>0.060609</td>\n",
              "    </tr>\n",
              "    <tr>\n",
              "      <th>1</th>\n",
              "      <td>divorced</td>\n",
              "      <td>yes</td>\n",
              "      <td>0.082751</td>\n",
              "    </tr>\n",
              "    <tr>\n",
              "      <th>5</th>\n",
              "      <td>single</td>\n",
              "      <td>yes</td>\n",
              "      <td>0.094315</td>\n",
              "    </tr>\n",
              "  </tbody>\n",
              "</table>\n",
              "</div>"
            ],
            "text/plain": [
              "    marital    y  percentage\n",
              "4    single   no    0.905685\n",
              "0  divorced   no    0.917249\n",
              "2   married   no    0.939391\n",
              "3   married  yes    0.060609\n",
              "1  divorced  yes    0.082751\n",
              "5    single  yes    0.094315"
            ]
          },
          "metadata": {
            "tags": []
          },
          "execution_count": 25
        }
      ]
    },
    {
      "cell_type": "code",
      "metadata": {
        "colab": {
          "base_uri": "https://localhost:8080/",
          "height": 0
        },
        "id": "a7Q3hBJMhMQv",
        "outputId": "c6678164-52a8-4c29-a55c-b7ad7e6f54a6"
      },
      "source": [
        "plt.figure(figsize=(10,6))\r\n",
        "sns.barplot(x='marital', y=\"percentage\", data=df_marital, hue='y');"
      ],
      "execution_count": 26,
      "outputs": [
        {
          "output_type": "display_data",
          "data": {
            "image/png": "[encoded data removed]",
            "text/plain": [
              "<Figure size 720x432 with 1 Axes>"
            ]
          },
          "metadata": {
            "tags": [],
            "needs_background": "light"
          }
        }
      ]
    },
    {
      "cell_type": "markdown",
      "metadata": {
        "id": "NnfBrUxAimHX"
      },
      "source": [
        "As can bee seen, single customers has higher subscription percentage than divorced and married customers."
      ]
    },
    {
      "cell_type": "markdown",
      "metadata": {
        "id": "YZdzgtEIiyrb"
      },
      "source": [
        "#### education"
      ]
    },
    {
      "cell_type": "code",
      "metadata": {
        "colab": {
          "base_uri": "https://localhost:8080/"
        },
        "id": "T5jIb6sJmck8",
        "outputId": "0e5679c2-b9ea-46a9-8970-be211ebae363"
      },
      "source": [
        "df.education.value_counts()"
      ],
      "execution_count": 27,
      "outputs": [
        {
          "output_type": "execute_result",
          "data": {
            "text/plain": [
              "secondary    20993\n",
              "tertiary     11206\n",
              "primary       6270\n",
              "unknown       1531\n",
              "Name: education, dtype: int64"
            ]
          },
          "metadata": {
            "tags": []
          },
          "execution_count": 27
        }
      ]
    },
    {
      "cell_type": "code",
      "metadata": {
        "colab": {
          "base_uri": "https://localhost:8080/",
          "height": 0
        },
        "id": "N43R6wMshMN8",
        "outputId": "1bc90eca-79f8-4898-86f7-68060888e92c"
      },
      "source": [
        "df_education = df.groupby(\"education\")[\"y\"].value_counts(normalize=True).reset_index(name=\"percentage\").sort_values([\"y\", \"percentage\"])\r\n",
        "df_education"
      ],
      "execution_count": 28,
      "outputs": [
        {
          "output_type": "execute_result",
          "data": {
            "text/html": [
              "<div>\n",
              "<style scoped>\n",
              "    .dataframe tbody tr th:only-of-type {\n",
              "        vertical-align: middle;\n",
              "    }\n",
              "\n",
              "    .dataframe tbody tr th {\n",
              "        vertical-align: top;\n",
              "    }\n",
              "\n",
              "    .dataframe thead th {\n",
              "        text-align: right;\n",
              "    }\n",
              "</style>\n",
              "<table border=\"1\" class=\"dataframe\">\n",
              "  <thead>\n",
              "    <tr style=\"text-align: right;\">\n",
              "      <th></th>\n",
              "      <th>education</th>\n",
              "      <th>y</th>\n",
              "      <th>percentage</th>\n",
              "    </tr>\n",
              "  </thead>\n",
              "  <tbody>\n",
              "    <tr>\n",
              "      <th>4</th>\n",
              "      <td>tertiary</td>\n",
              "      <td>no</td>\n",
              "      <td>0.908174</td>\n",
              "    </tr>\n",
              "    <tr>\n",
              "      <th>2</th>\n",
              "      <td>secondary</td>\n",
              "      <td>no</td>\n",
              "      <td>0.932454</td>\n",
              "    </tr>\n",
              "    <tr>\n",
              "      <th>6</th>\n",
              "      <td>unknown</td>\n",
              "      <td>no</td>\n",
              "      <td>0.937296</td>\n",
              "    </tr>\n",
              "    <tr>\n",
              "      <th>0</th>\n",
              "      <td>primary</td>\n",
              "      <td>no</td>\n",
              "      <td>0.943700</td>\n",
              "    </tr>\n",
              "    <tr>\n",
              "      <th>1</th>\n",
              "      <td>primary</td>\n",
              "      <td>yes</td>\n",
              "      <td>0.056300</td>\n",
              "    </tr>\n",
              "    <tr>\n",
              "      <th>7</th>\n",
              "      <td>unknown</td>\n",
              "      <td>yes</td>\n",
              "      <td>0.062704</td>\n",
              "    </tr>\n",
              "    <tr>\n",
              "      <th>3</th>\n",
              "      <td>secondary</td>\n",
              "      <td>yes</td>\n",
              "      <td>0.067546</td>\n",
              "    </tr>\n",
              "    <tr>\n",
              "      <th>5</th>\n",
              "      <td>tertiary</td>\n",
              "      <td>yes</td>\n",
              "      <td>0.091826</td>\n",
              "    </tr>\n",
              "  </tbody>\n",
              "</table>\n",
              "</div>"
            ],
            "text/plain": [
              "   education    y  percentage\n",
              "4   tertiary   no    0.908174\n",
              "2  secondary   no    0.932454\n",
              "6    unknown   no    0.937296\n",
              "0    primary   no    0.943700\n",
              "1    primary  yes    0.056300\n",
              "7    unknown  yes    0.062704\n",
              "3  secondary  yes    0.067546\n",
              "5   tertiary  yes    0.091826"
            ]
          },
          "metadata": {
            "tags": []
          },
          "execution_count": 28
        }
      ]
    },
    {
      "cell_type": "code",
      "metadata": {
        "colab": {
          "base_uri": "https://localhost:8080/",
          "height": 0
        },
        "id": "REb3U7HxhMLB",
        "outputId": "507ffa2f-b3d4-4cf2-c452-0945d3eb5de7"
      },
      "source": [
        "plt.figure(figsize=(10,5))\r\n",
        "sns.barplot(x='education', y=\"percentage\", data=df_education, hue='y');"
      ],
      "execution_count": 29,
      "outputs": [
        {
          "output_type": "display_data",
          "data": {
            "image/png": "[encoded data removed]",
            "text/plain": [
              "<Figure size 720x360 with 1 Axes>"
            ]
          },
          "metadata": {
            "tags": [],
            "needs_background": "light"
          }
        }
      ]
    },
    {
      "cell_type": "code",
      "metadata": {
        "id": "oaSj-nmBTwhc"
      },
      "source": [
        "# df.education.replace(['primary', 'secondary', 'unknown'], 'other', inplace=True)"
      ],
      "execution_count": 30,
      "outputs": []
    },
    {
      "cell_type": "markdown",
      "metadata": {
        "id": "YEjZCGPtnNkj"
      },
      "source": [
        "#### default"
      ]
    },
    {
      "cell_type": "code",
      "metadata": {
        "colab": {
          "base_uri": "https://localhost:8080/"
        },
        "id": "WYzRiOSbhMIS",
        "outputId": "ec9fe83e-da54-4f42-ef2b-5d3930330e93"
      },
      "source": [
        "df.default.value_counts()"
      ],
      "execution_count": 31,
      "outputs": [
        {
          "output_type": "execute_result",
          "data": {
            "text/plain": [
              "no     39191\n",
              "yes      809\n",
              "Name: default, dtype: int64"
            ]
          },
          "metadata": {
            "tags": []
          },
          "execution_count": 31
        }
      ]
    },
    {
      "cell_type": "code",
      "metadata": {
        "colab": {
          "base_uri": "https://localhost:8080/"
        },
        "id": "YGwq-o9o3iap",
        "outputId": "c6dc03ef-d4de-47fb-e278-eb3fe6fb73a2"
      },
      "source": [
        "df.default.value_counts(normalize=True)"
      ],
      "execution_count": 32,
      "outputs": [
        {
          "output_type": "execute_result",
          "data": {
            "text/plain": [
              "no     0.979775\n",
              "yes    0.020225\n",
              "Name: default, dtype: float64"
            ]
          },
          "metadata": {
            "tags": []
          },
          "execution_count": 32
        }
      ]
    },
    {
      "cell_type": "code",
      "metadata": {
        "colab": {
          "base_uri": "https://localhost:8080/",
          "height": 0
        },
        "id": "i4dGig7FhMFZ",
        "outputId": "b1f77ba0-d9e7-4115-e025-4967a5bf3a4e"
      },
      "source": [
        "df_default = df.groupby(\"default\")[\"y\"].value_counts(normalize=True).reset_index(name=\"percentage\").sort_values([\"y\", \"percentage\"])\r\n",
        "df_default"
      ],
      "execution_count": 33,
      "outputs": [
        {
          "output_type": "execute_result",
          "data": {
            "text/html": [
              "<div>\n",
              "<style scoped>\n",
              "    .dataframe tbody tr th:only-of-type {\n",
              "        vertical-align: middle;\n",
              "    }\n",
              "\n",
              "    .dataframe tbody tr th {\n",
              "        vertical-align: top;\n",
              "    }\n",
              "\n",
              "    .dataframe thead th {\n",
              "        text-align: right;\n",
              "    }\n",
              "</style>\n",
              "<table border=\"1\" class=\"dataframe\">\n",
              "  <thead>\n",
              "    <tr style=\"text-align: right;\">\n",
              "      <th></th>\n",
              "      <th>default</th>\n",
              "      <th>y</th>\n",
              "      <th>percentage</th>\n",
              "    </tr>\n",
              "  </thead>\n",
              "  <tbody>\n",
              "    <tr>\n",
              "      <th>0</th>\n",
              "      <td>no</td>\n",
              "      <td>no</td>\n",
              "      <td>0.927356</td>\n",
              "    </tr>\n",
              "    <tr>\n",
              "      <th>2</th>\n",
              "      <td>yes</td>\n",
              "      <td>no</td>\n",
              "      <td>0.939431</td>\n",
              "    </tr>\n",
              "    <tr>\n",
              "      <th>3</th>\n",
              "      <td>yes</td>\n",
              "      <td>yes</td>\n",
              "      <td>0.060569</td>\n",
              "    </tr>\n",
              "    <tr>\n",
              "      <th>1</th>\n",
              "      <td>no</td>\n",
              "      <td>yes</td>\n",
              "      <td>0.072644</td>\n",
              "    </tr>\n",
              "  </tbody>\n",
              "</table>\n",
              "</div>"
            ],
            "text/plain": [
              "  default    y  percentage\n",
              "0      no   no    0.927356\n",
              "2     yes   no    0.939431\n",
              "3     yes  yes    0.060569\n",
              "1      no  yes    0.072644"
            ]
          },
          "metadata": {
            "tags": []
          },
          "execution_count": 33
        }
      ]
    },
    {
      "cell_type": "markdown",
      "metadata": {
        "id": "GBWhtChn1Lb_"
      },
      "source": [
        "#### housing"
      ]
    },
    {
      "cell_type": "code",
      "metadata": {
        "colab": {
          "base_uri": "https://localhost:8080/"
        },
        "id": "fF9P_2YKhMCt",
        "outputId": "6adad023-822d-4e0c-b30d-0eaa54a92466"
      },
      "source": [
        "df.housing.value_counts()\r\n"
      ],
      "execution_count": 34,
      "outputs": [
        {
          "output_type": "execute_result",
          "data": {
            "text/plain": [
              "yes    24031\n",
              "no     15969\n",
              "Name: housing, dtype: int64"
            ]
          },
          "metadata": {
            "tags": []
          },
          "execution_count": 34
        }
      ]
    },
    {
      "cell_type": "code",
      "metadata": {
        "colab": {
          "base_uri": "https://localhost:8080/",
          "height": 0
        },
        "id": "sv6d_RRuhMAT",
        "outputId": "507e12bb-260d-49fb-8873-ad79dd142078"
      },
      "source": [
        "df_housing = df.groupby(\"housing\")[\"y\"].value_counts(normalize=True).reset_index(name=\"percentage\").sort_values([\"y\", \"percentage\"])\r\n",
        "df_housing"
      ],
      "execution_count": 35,
      "outputs": [
        {
          "output_type": "execute_result",
          "data": {
            "text/html": [
              "<div>\n",
              "<style scoped>\n",
              "    .dataframe tbody tr th:only-of-type {\n",
              "        vertical-align: middle;\n",
              "    }\n",
              "\n",
              "    .dataframe tbody tr th {\n",
              "        vertical-align: top;\n",
              "    }\n",
              "\n",
              "    .dataframe thead th {\n",
              "        text-align: right;\n",
              "    }\n",
              "</style>\n",
              "<table border=\"1\" class=\"dataframe\">\n",
              "  <thead>\n",
              "    <tr style=\"text-align: right;\">\n",
              "      <th></th>\n",
              "      <th>housing</th>\n",
              "      <th>y</th>\n",
              "      <th>percentage</th>\n",
              "    </tr>\n",
              "  </thead>\n",
              "  <tbody>\n",
              "    <tr>\n",
              "      <th>0</th>\n",
              "      <td>no</td>\n",
              "      <td>no</td>\n",
              "      <td>0.910326</td>\n",
              "    </tr>\n",
              "    <tr>\n",
              "      <th>2</th>\n",
              "      <td>yes</td>\n",
              "      <td>no</td>\n",
              "      <td>0.939079</td>\n",
              "    </tr>\n",
              "    <tr>\n",
              "      <th>3</th>\n",
              "      <td>yes</td>\n",
              "      <td>yes</td>\n",
              "      <td>0.060921</td>\n",
              "    </tr>\n",
              "    <tr>\n",
              "      <th>1</th>\n",
              "      <td>no</td>\n",
              "      <td>yes</td>\n",
              "      <td>0.089674</td>\n",
              "    </tr>\n",
              "  </tbody>\n",
              "</table>\n",
              "</div>"
            ],
            "text/plain": [
              "  housing    y  percentage\n",
              "0      no   no    0.910326\n",
              "2     yes   no    0.939079\n",
              "3     yes  yes    0.060921\n",
              "1      no  yes    0.089674"
            ]
          },
          "metadata": {
            "tags": []
          },
          "execution_count": 35
        }
      ]
    },
    {
      "cell_type": "markdown",
      "metadata": {
        "id": "ZjIkLIBD1kCN"
      },
      "source": [
        "#### loan"
      ]
    },
    {
      "cell_type": "code",
      "metadata": {
        "colab": {
          "base_uri": "https://localhost:8080/"
        },
        "id": "iXld2s601poz",
        "outputId": "3f929105-4020-4b8d-8ff4-0fa52109ddb5"
      },
      "source": [
        "df.loan.value_counts()\r\n"
      ],
      "execution_count": 36,
      "outputs": [
        {
          "output_type": "execute_result",
          "data": {
            "text/plain": [
              "no     33070\n",
              "yes     6930\n",
              "Name: loan, dtype: int64"
            ]
          },
          "metadata": {
            "tags": []
          },
          "execution_count": 36
        }
      ]
    },
    {
      "cell_type": "code",
      "metadata": {
        "colab": {
          "base_uri": "https://localhost:8080/",
          "height": 0
        },
        "id": "-Iz3EkZ11po6",
        "outputId": "d95dc5c9-5736-44e7-d95e-fd8fe4fdabbd"
      },
      "source": [
        "df_loan = df.groupby(\"loan\")[\"y\"].value_counts(normalize=True).reset_index(name=\"percentage\").sort_values([\"y\", \"percentage\"])\r\n",
        "df_loan"
      ],
      "execution_count": 37,
      "outputs": [
        {
          "output_type": "execute_result",
          "data": {
            "text/html": [
              "<div>\n",
              "<style scoped>\n",
              "    .dataframe tbody tr th:only-of-type {\n",
              "        vertical-align: middle;\n",
              "    }\n",
              "\n",
              "    .dataframe tbody tr th {\n",
              "        vertical-align: top;\n",
              "    }\n",
              "\n",
              "    .dataframe thead th {\n",
              "        text-align: right;\n",
              "    }\n",
              "</style>\n",
              "<table border=\"1\" class=\"dataframe\">\n",
              "  <thead>\n",
              "    <tr style=\"text-align: right;\">\n",
              "      <th></th>\n",
              "      <th>loan</th>\n",
              "      <th>y</th>\n",
              "      <th>percentage</th>\n",
              "    </tr>\n",
              "  </thead>\n",
              "  <tbody>\n",
              "    <tr>\n",
              "      <th>0</th>\n",
              "      <td>no</td>\n",
              "      <td>no</td>\n",
              "      <td>0.923919</td>\n",
              "    </tr>\n",
              "    <tr>\n",
              "      <th>2</th>\n",
              "      <td>yes</td>\n",
              "      <td>no</td>\n",
              "      <td>0.945166</td>\n",
              "    </tr>\n",
              "    <tr>\n",
              "      <th>3</th>\n",
              "      <td>yes</td>\n",
              "      <td>yes</td>\n",
              "      <td>0.054834</td>\n",
              "    </tr>\n",
              "    <tr>\n",
              "      <th>1</th>\n",
              "      <td>no</td>\n",
              "      <td>yes</td>\n",
              "      <td>0.076081</td>\n",
              "    </tr>\n",
              "  </tbody>\n",
              "</table>\n",
              "</div>"
            ],
            "text/plain": [
              "  loan    y  percentage\n",
              "0   no   no    0.923919\n",
              "2  yes   no    0.945166\n",
              "3  yes  yes    0.054834\n",
              "1   no  yes    0.076081"
            ]
          },
          "metadata": {
            "tags": []
          },
          "execution_count": 37
        }
      ]
    },
    {
      "cell_type": "markdown",
      "metadata": {
        "id": "btIsXDcB11SQ"
      },
      "source": [
        "#### contact"
      ]
    },
    {
      "cell_type": "code",
      "metadata": {
        "colab": {
          "base_uri": "https://localhost:8080/"
        },
        "id": "uFkFB8K81Usn",
        "outputId": "694dba78-c5a9-4d3d-9005-fb06fd2bf11c"
      },
      "source": [
        "df.contact.value_counts()"
      ],
      "execution_count": 38,
      "outputs": [
        {
          "output_type": "execute_result",
          "data": {
            "text/plain": [
              "cellular     24914\n",
              "unknown      12765\n",
              "telephone     2321\n",
              "Name: contact, dtype: int64"
            ]
          },
          "metadata": {
            "tags": []
          },
          "execution_count": 38
        }
      ]
    },
    {
      "cell_type": "code",
      "metadata": {
        "colab": {
          "base_uri": "https://localhost:8080/",
          "height": 0
        },
        "id": "4GzDm94p1Uv-",
        "outputId": "21ce723b-ec30-4ab4-c3dc-455888ed5f8f"
      },
      "source": [
        "df_contact = df.groupby(\"contact\")[\"y\"].value_counts(normalize=True).reset_index(name=\"percentage\").sort_values([\"y\", \"percentage\"])\r\n",
        "df_contact"
      ],
      "execution_count": 39,
      "outputs": [
        {
          "output_type": "execute_result",
          "data": {
            "text/html": [
              "<div>\n",
              "<style scoped>\n",
              "    .dataframe tbody tr th:only-of-type {\n",
              "        vertical-align: middle;\n",
              "    }\n",
              "\n",
              "    .dataframe tbody tr th {\n",
              "        vertical-align: top;\n",
              "    }\n",
              "\n",
              "    .dataframe thead th {\n",
              "        text-align: right;\n",
              "    }\n",
              "</style>\n",
              "<table border=\"1\" class=\"dataframe\">\n",
              "  <thead>\n",
              "    <tr style=\"text-align: right;\">\n",
              "      <th></th>\n",
              "      <th>contact</th>\n",
              "      <th>y</th>\n",
              "      <th>percentage</th>\n",
              "    </tr>\n",
              "  </thead>\n",
              "  <tbody>\n",
              "    <tr>\n",
              "      <th>0</th>\n",
              "      <td>cellular</td>\n",
              "      <td>no</td>\n",
              "      <td>0.910372</td>\n",
              "    </tr>\n",
              "    <tr>\n",
              "      <th>2</th>\n",
              "      <td>telephone</td>\n",
              "      <td>no</td>\n",
              "      <td>0.928479</td>\n",
              "    </tr>\n",
              "    <tr>\n",
              "      <th>4</th>\n",
              "      <td>unknown</td>\n",
              "      <td>no</td>\n",
              "      <td>0.961065</td>\n",
              "    </tr>\n",
              "    <tr>\n",
              "      <th>5</th>\n",
              "      <td>unknown</td>\n",
              "      <td>yes</td>\n",
              "      <td>0.038935</td>\n",
              "    </tr>\n",
              "    <tr>\n",
              "      <th>3</th>\n",
              "      <td>telephone</td>\n",
              "      <td>yes</td>\n",
              "      <td>0.071521</td>\n",
              "    </tr>\n",
              "    <tr>\n",
              "      <th>1</th>\n",
              "      <td>cellular</td>\n",
              "      <td>yes</td>\n",
              "      <td>0.089628</td>\n",
              "    </tr>\n",
              "  </tbody>\n",
              "</table>\n",
              "</div>"
            ],
            "text/plain": [
              "     contact    y  percentage\n",
              "0   cellular   no    0.910372\n",
              "2  telephone   no    0.928479\n",
              "4    unknown   no    0.961065\n",
              "5    unknown  yes    0.038935\n",
              "3  telephone  yes    0.071521\n",
              "1   cellular  yes    0.089628"
            ]
          },
          "metadata": {
            "tags": []
          },
          "execution_count": 39
        }
      ]
    },
    {
      "cell_type": "markdown",
      "metadata": {
        "id": "dz0lDMjs2W25"
      },
      "source": [
        "#### month"
      ]
    },
    {
      "cell_type": "code",
      "metadata": {
        "colab": {
          "base_uri": "https://localhost:8080/"
        },
        "id": "wYk8pi5P1VMC",
        "outputId": "fc7a5e84-4c5b-4523-f315-9d13e49c71c6"
      },
      "source": [
        "df.month.value_counts()"
      ],
      "execution_count": 40,
      "outputs": [
        {
          "output_type": "execute_result",
          "data": {
            "text/plain": [
              "may    13532\n",
              "jul     6380\n",
              "aug     5215\n",
              "jun     4734\n",
              "nov     3598\n",
              "apr     2718\n",
              "feb     2296\n",
              "jan     1176\n",
              "mar      258\n",
              "oct       80\n",
              "dec       13\n",
              "Name: month, dtype: int64"
            ]
          },
          "metadata": {
            "tags": []
          },
          "execution_count": 40
        }
      ]
    },
    {
      "cell_type": "code",
      "metadata": {
        "colab": {
          "base_uri": "https://localhost:8080/",
          "height": 0
        },
        "id": "S-WuQcRb1VOm",
        "outputId": "7d0bd173-a7ec-4269-9db0-b127c9d14713"
      },
      "source": [
        "df_month = df.groupby(\"month\")[\"y\"].value_counts(normalize=True).reset_index(name=\"percentage\").sort_values([\"y\", \"percentage\"])\r\n",
        "df_month"
      ],
      "execution_count": 41,
      "outputs": [
        {
          "output_type": "execute_result",
          "data": {
            "text/html": [
              "<div>\n",
              "<style scoped>\n",
              "    .dataframe tbody tr th:only-of-type {\n",
              "        vertical-align: middle;\n",
              "    }\n",
              "\n",
              "    .dataframe tbody tr th {\n",
              "        vertical-align: top;\n",
              "    }\n",
              "\n",
              "    .dataframe thead th {\n",
              "        text-align: right;\n",
              "    }\n",
              "</style>\n",
              "<table border=\"1\" class=\"dataframe\">\n",
              "  <thead>\n",
              "    <tr style=\"text-align: right;\">\n",
              "      <th></th>\n",
              "      <th>month</th>\n",
              "      <th>y</th>\n",
              "      <th>percentage</th>\n",
              "    </tr>\n",
              "  </thead>\n",
              "  <tbody>\n",
              "    <tr>\n",
              "      <th>21</th>\n",
              "      <td>oct</td>\n",
              "      <td>no</td>\n",
              "      <td>0.387500</td>\n",
              "    </tr>\n",
              "    <tr>\n",
              "      <th>14</th>\n",
              "      <td>mar</td>\n",
              "      <td>no</td>\n",
              "      <td>0.515504</td>\n",
              "    </tr>\n",
              "    <tr>\n",
              "      <th>0</th>\n",
              "      <td>apr</td>\n",
              "      <td>no</td>\n",
              "      <td>0.834069</td>\n",
              "    </tr>\n",
              "    <tr>\n",
              "      <th>6</th>\n",
              "      <td>feb</td>\n",
              "      <td>no</td>\n",
              "      <td>0.888937</td>\n",
              "    </tr>\n",
              "    <tr>\n",
              "      <th>4</th>\n",
              "      <td>dec</td>\n",
              "      <td>no</td>\n",
              "      <td>0.923077</td>\n",
              "    </tr>\n",
              "    <tr>\n",
              "      <th>12</th>\n",
              "      <td>jun</td>\n",
              "      <td>no</td>\n",
              "      <td>0.937896</td>\n",
              "    </tr>\n",
              "    <tr>\n",
              "      <th>18</th>\n",
              "      <td>nov</td>\n",
              "      <td>no</td>\n",
              "      <td>0.938855</td>\n",
              "    </tr>\n",
              "    <tr>\n",
              "      <th>10</th>\n",
              "      <td>jul</td>\n",
              "      <td>no</td>\n",
              "      <td>0.939812</td>\n",
              "    </tr>\n",
              "    <tr>\n",
              "      <th>16</th>\n",
              "      <td>may</td>\n",
              "      <td>no</td>\n",
              "      <td>0.941546</td>\n",
              "    </tr>\n",
              "    <tr>\n",
              "      <th>2</th>\n",
              "      <td>aug</td>\n",
              "      <td>no</td>\n",
              "      <td>0.944775</td>\n",
              "    </tr>\n",
              "    <tr>\n",
              "      <th>8</th>\n",
              "      <td>jan</td>\n",
              "      <td>no</td>\n",
              "      <td>0.967687</td>\n",
              "    </tr>\n",
              "    <tr>\n",
              "      <th>9</th>\n",
              "      <td>jan</td>\n",
              "      <td>yes</td>\n",
              "      <td>0.032313</td>\n",
              "    </tr>\n",
              "    <tr>\n",
              "      <th>3</th>\n",
              "      <td>aug</td>\n",
              "      <td>yes</td>\n",
              "      <td>0.055225</td>\n",
              "    </tr>\n",
              "    <tr>\n",
              "      <th>17</th>\n",
              "      <td>may</td>\n",
              "      <td>yes</td>\n",
              "      <td>0.058454</td>\n",
              "    </tr>\n",
              "    <tr>\n",
              "      <th>11</th>\n",
              "      <td>jul</td>\n",
              "      <td>yes</td>\n",
              "      <td>0.060188</td>\n",
              "    </tr>\n",
              "    <tr>\n",
              "      <th>19</th>\n",
              "      <td>nov</td>\n",
              "      <td>yes</td>\n",
              "      <td>0.061145</td>\n",
              "    </tr>\n",
              "    <tr>\n",
              "      <th>13</th>\n",
              "      <td>jun</td>\n",
              "      <td>yes</td>\n",
              "      <td>0.062104</td>\n",
              "    </tr>\n",
              "    <tr>\n",
              "      <th>5</th>\n",
              "      <td>dec</td>\n",
              "      <td>yes</td>\n",
              "      <td>0.076923</td>\n",
              "    </tr>\n",
              "    <tr>\n",
              "      <th>7</th>\n",
              "      <td>feb</td>\n",
              "      <td>yes</td>\n",
              "      <td>0.111063</td>\n",
              "    </tr>\n",
              "    <tr>\n",
              "      <th>1</th>\n",
              "      <td>apr</td>\n",
              "      <td>yes</td>\n",
              "      <td>0.165931</td>\n",
              "    </tr>\n",
              "    <tr>\n",
              "      <th>15</th>\n",
              "      <td>mar</td>\n",
              "      <td>yes</td>\n",
              "      <td>0.484496</td>\n",
              "    </tr>\n",
              "    <tr>\n",
              "      <th>20</th>\n",
              "      <td>oct</td>\n",
              "      <td>yes</td>\n",
              "      <td>0.612500</td>\n",
              "    </tr>\n",
              "  </tbody>\n",
              "</table>\n",
              "</div>"
            ],
            "text/plain": [
              "   month    y  percentage\n",
              "21   oct   no    0.387500\n",
              "14   mar   no    0.515504\n",
              "0    apr   no    0.834069\n",
              "6    feb   no    0.888937\n",
              "4    dec   no    0.923077\n",
              "12   jun   no    0.937896\n",
              "18   nov   no    0.938855\n",
              "10   jul   no    0.939812\n",
              "16   may   no    0.941546\n",
              "2    aug   no    0.944775\n",
              "8    jan   no    0.967687\n",
              "9    jan  yes    0.032313\n",
              "3    aug  yes    0.055225\n",
              "17   may  yes    0.058454\n",
              "11   jul  yes    0.060188\n",
              "19   nov  yes    0.061145\n",
              "13   jun  yes    0.062104\n",
              "5    dec  yes    0.076923\n",
              "7    feb  yes    0.111063\n",
              "1    apr  yes    0.165931\n",
              "15   mar  yes    0.484496\n",
              "20   oct  yes    0.612500"
            ]
          },
          "metadata": {
            "tags": []
          },
          "execution_count": 41
        }
      ]
    },
    {
      "cell_type": "code",
      "metadata": {
        "colab": {
          "base_uri": "https://localhost:8080/",
          "height": 0
        },
        "id": "tF8lnsmh2lCB",
        "outputId": "78c25520-311d-4c25-de22-646204c8c8a9"
      },
      "source": [
        "plt.figure(figsize=(12,6))\r\n",
        "sns.barplot(x='month', y=\"percentage\", data=df_month, hue='y');"
      ],
      "execution_count": 42,
      "outputs": [
        {
          "output_type": "display_data",
          "data": {
            "image/png": "[encoded data removed]",
            "text/plain": [
              "<Figure size 864x432 with 1 Axes>"
            ]
          },
          "metadata": {
            "tags": [],
            "needs_background": "light"
          }
        }
      ]
    },
    {
      "cell_type": "markdown",
      "metadata": {
        "id": "rCMWr6vo3yQF"
      },
      "source": [
        "In October and March, the subscription percentages are high, but there are not many observations in these months. "
      ]
    },
    {
      "cell_type": "markdown",
      "metadata": {
        "id": "JMCUCxtYhg-U"
      },
      "source": [
        "#### campaign"
      ]
    },
    {
      "cell_type": "code",
      "metadata": {
        "id": "gk5pCYDb2lEx",
        "colab": {
          "base_uri": "https://localhost:8080/",
          "height": 0
        },
        "outputId": "20488fd6-22fb-4452-ee2e-d1a2ec15f9ce"
      },
      "source": [
        "sns.displot(df.campaign, bins=30, height=6, aspect=1.5);"
      ],
      "execution_count": 43,
      "outputs": [
        {
          "output_type": "display_data",
          "data": {
            "image/png": "[encoded data removed]",
            "text/plain": [
              "<Figure size 648x432 with 1 Axes>"
            ]
          },
          "metadata": {
            "tags": [],
            "needs_background": "light"
          }
        }
      ]
    },
    {
      "cell_type": "code",
      "metadata": {
        "colab": {
          "base_uri": "https://localhost:8080/",
          "height": 0
        },
        "id": "SgR4e-w_oDTU",
        "outputId": "6dbe0e75-941d-4bd2-c6dc-51413a711644"
      },
      "source": [
        "df.groupby('y')['campaign'].describe()"
      ],
      "execution_count": 44,
      "outputs": [
        {
          "output_type": "execute_result",
          "data": {
            "text/html": [
              "<div>\n",
              "<style scoped>\n",
              "    .dataframe tbody tr th:only-of-type {\n",
              "        vertical-align: middle;\n",
              "    }\n",
              "\n",
              "    .dataframe tbody tr th {\n",
              "        vertical-align: top;\n",
              "    }\n",
              "\n",
              "    .dataframe thead th {\n",
              "        text-align: right;\n",
              "    }\n",
              "</style>\n",
              "<table border=\"1\" class=\"dataframe\">\n",
              "  <thead>\n",
              "    <tr style=\"text-align: right;\">\n",
              "      <th></th>\n",
              "      <th>count</th>\n",
              "      <th>mean</th>\n",
              "      <th>std</th>\n",
              "      <th>min</th>\n",
              "      <th>25%</th>\n",
              "      <th>50%</th>\n",
              "      <th>75%</th>\n",
              "      <th>max</th>\n",
              "    </tr>\n",
              "    <tr>\n",
              "      <th>y</th>\n",
              "      <th></th>\n",
              "      <th></th>\n",
              "      <th></th>\n",
              "      <th></th>\n",
              "      <th></th>\n",
              "      <th></th>\n",
              "      <th></th>\n",
              "      <th></th>\n",
              "    </tr>\n",
              "  </thead>\n",
              "  <tbody>\n",
              "    <tr>\n",
              "      <th>no</th>\n",
              "      <td>37104.0</td>\n",
              "      <td>2.918688</td>\n",
              "      <td>3.298031</td>\n",
              "      <td>1.0</td>\n",
              "      <td>1.0</td>\n",
              "      <td>2.0</td>\n",
              "      <td>3.0</td>\n",
              "      <td>63.0</td>\n",
              "    </tr>\n",
              "    <tr>\n",
              "      <th>yes</th>\n",
              "      <td>2896.0</td>\n",
              "      <td>2.414365</td>\n",
              "      <td>2.306015</td>\n",
              "      <td>1.0</td>\n",
              "      <td>1.0</td>\n",
              "      <td>2.0</td>\n",
              "      <td>3.0</td>\n",
              "      <td>32.0</td>\n",
              "    </tr>\n",
              "  </tbody>\n",
              "</table>\n",
              "</div>"
            ],
            "text/plain": [
              "       count      mean       std  min  25%  50%  75%   max\n",
              "y                                                         \n",
              "no   37104.0  2.918688  3.298031  1.0  1.0  2.0  3.0  63.0\n",
              "yes   2896.0  2.414365  2.306015  1.0  1.0  2.0  3.0  32.0"
            ]
          },
          "metadata": {
            "tags": []
          },
          "execution_count": 44
        }
      ]
    },
    {
      "cell_type": "code",
      "metadata": {
        "colab": {
          "base_uri": "https://localhost:8080/",
          "height": 0
        },
        "id": "u46nhuh_j6cc",
        "outputId": "a41cd355-50a6-4419-b383-dc993929676d"
      },
      "source": [
        "plt.figure(figsize=(10,6))\r\n",
        "sns.boxplot(x='y',y='campaign', data=df);"
      ],
      "execution_count": 45,
      "outputs": [
        {
          "output_type": "display_data",
          "data": {
            "image/png": "[encoded data removed]",
            "text/plain": [
              "<Figure size 720x432 with 1 Axes>"
            ]
          },
          "metadata": {
            "tags": [],
            "needs_background": "light"
          }
        }
      ]
    },
    {
      "cell_type": "markdown",
      "metadata": {
        "id": "IVHRjZcY53MJ"
      },
      "source": [
        "Winsorizing upper 1 percent can provide a better graph."
      ]
    },
    {
      "cell_type": "code",
      "metadata": {
        "id": "TVpdibb_53MK"
      },
      "source": [
        "df[\"campaign\"] = winsorize(df['campaign'], limits=[None, 0.01])"
      ],
      "execution_count": 46,
      "outputs": []
    },
    {
      "cell_type": "code",
      "metadata": {
        "id": "5hm4sclT2lHi",
        "colab": {
          "base_uri": "https://localhost:8080/",
          "height": 0
        },
        "outputId": "3b3d336e-473c-452c-a54c-b9c090c2a81f"
      },
      "source": [
        "plt.figure(figsize=(10,6))\r\n",
        "sns.boxplot(x='y',y='campaign', data=df);"
      ],
      "execution_count": 47,
      "outputs": [
        {
          "output_type": "display_data",
          "data": {
            "image/png": "[encoded data removed]",
            "text/plain": [
              "<Figure size 720x432 with 1 Axes>"
            ]
          },
          "metadata": {
            "tags": [],
            "needs_background": "light"
          }
        }
      ]
    },
    {
      "cell_type": "markdown",
      "metadata": {
        "id": "92HCwTcFkWpY"
      },
      "source": [
        "As can be seen, distribution of number of contacts performed during this campaign for subscribed and not subscribed customers look very similar. "
      ]
    },
    {
      "cell_type": "markdown",
      "metadata": {
        "id": "eqeaLBKBk6gw"
      },
      "source": [
        "#### y\r\n"
      ]
    },
    {
      "cell_type": "code",
      "metadata": {
        "colab": {
          "base_uri": "https://localhost:8080/"
        },
        "id": "RTspCz2Al3Kp",
        "outputId": "f4f96724-79ad-46d1-bc08-37ee018aa967"
      },
      "source": [
        "df.y.value_counts(normalize=True)"
      ],
      "execution_count": 48,
      "outputs": [
        {
          "output_type": "execute_result",
          "data": {
            "text/plain": [
              "no     0.9276\n",
              "yes    0.0724\n",
              "Name: y, dtype: float64"
            ]
          },
          "metadata": {
            "tags": []
          },
          "execution_count": 48
        }
      ]
    },
    {
      "cell_type": "code",
      "metadata": {
        "colab": {
          "base_uri": "https://localhost:8080/",
          "height": 285
        },
        "id": "O3E4vC3LguuE",
        "outputId": "9e013c81-ecc5-46ea-c3ce-5ac028f14e2c"
      },
      "source": [
        "sns.countplot(x=df['y']);"
      ],
      "execution_count": 49,
      "outputs": [
        {
          "output_type": "display_data",
          "data": {
            "image/png": "[encoded data removed]",
            "text/plain": [
              "<Figure size 432x288 with 1 Axes>"
            ]
          },
          "metadata": {
            "tags": [],
            "needs_background": "light"
          }
        }
      ]
    },
    {
      "cell_type": "markdown",
      "metadata": {
        "id": "pZb-xRSlmLeg"
      },
      "source": [
        "We have a imbalanced dataset with majority of observations being of one type ('No') in our case. We have about 93% of observations having 'No' and only around 7% of 'Yes' and hence this is an imbalanced dataset."
      ]
    },
    {
      "cell_type": "markdown",
      "metadata": {
        "id": "bUNpwzpTE91f"
      },
      "source": [
        "### Drop unneccarry columns and perform encoding"
      ]
    },
    {
      "cell_type": "code",
      "metadata": {
        "colab": {
          "base_uri": "https://localhost:8080/",
          "height": 195
        },
        "id": "r3aQPrbQnt2C",
        "outputId": "ea332ce7-cb36-45b9-dad6-68619997520d"
      },
      "source": [
        "df = df.drop(['day', 'month', \"campaign\", \"default\"], axis=1)\r\n",
        "df.head()"
      ],
      "execution_count": 50,
      "outputs": [
        {
          "output_type": "execute_result",
          "data": {
            "text/html": [
              "<div>\n",
              "<style scoped>\n",
              "    .dataframe tbody tr th:only-of-type {\n",
              "        vertical-align: middle;\n",
              "    }\n",
              "\n",
              "    .dataframe tbody tr th {\n",
              "        vertical-align: top;\n",
              "    }\n",
              "\n",
              "    .dataframe thead th {\n",
              "        text-align: right;\n",
              "    }\n",
              "</style>\n",
              "<table border=\"1\" class=\"dataframe\">\n",
              "  <thead>\n",
              "    <tr style=\"text-align: right;\">\n",
              "      <th></th>\n",
              "      <th>age</th>\n",
              "      <th>job</th>\n",
              "      <th>marital</th>\n",
              "      <th>education</th>\n",
              "      <th>balance</th>\n",
              "      <th>housing</th>\n",
              "      <th>loan</th>\n",
              "      <th>contact</th>\n",
              "      <th>duration</th>\n",
              "      <th>y</th>\n",
              "    </tr>\n",
              "  </thead>\n",
              "  <tbody>\n",
              "    <tr>\n",
              "      <th>0</th>\n",
              "      <td>4.060443</td>\n",
              "      <td>management</td>\n",
              "      <td>married</td>\n",
              "      <td>tertiary</td>\n",
              "      <td>2143</td>\n",
              "      <td>yes</td>\n",
              "      <td>no</td>\n",
              "      <td>unknown</td>\n",
              "      <td>261</td>\n",
              "      <td>no</td>\n",
              "    </tr>\n",
              "    <tr>\n",
              "      <th>1</th>\n",
              "      <td>3.784190</td>\n",
              "      <td>technician</td>\n",
              "      <td>single</td>\n",
              "      <td>secondary</td>\n",
              "      <td>29</td>\n",
              "      <td>yes</td>\n",
              "      <td>no</td>\n",
              "      <td>unknown</td>\n",
              "      <td>151</td>\n",
              "      <td>no</td>\n",
              "    </tr>\n",
              "    <tr>\n",
              "      <th>2</th>\n",
              "      <td>3.496508</td>\n",
              "      <td>entrepreneur</td>\n",
              "      <td>married</td>\n",
              "      <td>secondary</td>\n",
              "      <td>2</td>\n",
              "      <td>yes</td>\n",
              "      <td>yes</td>\n",
              "      <td>unknown</td>\n",
              "      <td>76</td>\n",
              "      <td>no</td>\n",
              "    </tr>\n",
              "    <tr>\n",
              "      <th>3</th>\n",
              "      <td>3.850148</td>\n",
              "      <td>blue-collar</td>\n",
              "      <td>married</td>\n",
              "      <td>unknown</td>\n",
              "      <td>1506</td>\n",
              "      <td>yes</td>\n",
              "      <td>no</td>\n",
              "      <td>unknown</td>\n",
              "      <td>92</td>\n",
              "      <td>no</td>\n",
              "    </tr>\n",
              "    <tr>\n",
              "      <th>4</th>\n",
              "      <td>3.496508</td>\n",
              "      <td>unknown</td>\n",
              "      <td>single</td>\n",
              "      <td>unknown</td>\n",
              "      <td>1</td>\n",
              "      <td>no</td>\n",
              "      <td>no</td>\n",
              "      <td>unknown</td>\n",
              "      <td>198</td>\n",
              "      <td>no</td>\n",
              "    </tr>\n",
              "  </tbody>\n",
              "</table>\n",
              "</div>"
            ],
            "text/plain": [
              "        age           job  marital  education  ...  loan  contact duration   y\n",
              "0  4.060443    management  married   tertiary  ...    no  unknown      261  no\n",
              "1  3.784190    technician   single  secondary  ...    no  unknown      151  no\n",
              "2  3.496508  entrepreneur  married  secondary  ...   yes  unknown       76  no\n",
              "3  3.850148   blue-collar  married    unknown  ...    no  unknown       92  no\n",
              "4  3.496508       unknown   single    unknown  ...    no  unknown      198  no\n",
              "\n",
              "[5 rows x 10 columns]"
            ]
          },
          "metadata": {
            "tags": []
          },
          "execution_count": 50
        }
      ]
    },
    {
      "cell_type": "code",
      "metadata": {
        "id": "hxVPnf5iCEQq"
      },
      "source": [
        "df.y.replace({\"no\":0, \"yes\":1}, inplace=True)"
      ],
      "execution_count": 51,
      "outputs": []
    },
    {
      "cell_type": "code",
      "metadata": {
        "id": "BXcwxzVBCEKn",
        "colab": {
          "base_uri": "https://localhost:8080/",
          "height": 0
        },
        "outputId": "a9c580fb-584a-408f-f2e6-3cc84880a682"
      },
      "source": [
        "# encoding categorical variables\r\n",
        "df = pd.get_dummies(df, drop_first=True)\r\n",
        "df.head()"
      ],
      "execution_count": 52,
      "outputs": [
        {
          "output_type": "execute_result",
          "data": {
            "text/html": [
              "<div>\n",
              "<style scoped>\n",
              "    .dataframe tbody tr th:only-of-type {\n",
              "        vertical-align: middle;\n",
              "    }\n",
              "\n",
              "    .dataframe tbody tr th {\n",
              "        vertical-align: top;\n",
              "    }\n",
              "\n",
              "    .dataframe thead th {\n",
              "        text-align: right;\n",
              "    }\n",
              "</style>\n",
              "<table border=\"1\" class=\"dataframe\">\n",
              "  <thead>\n",
              "    <tr style=\"text-align: right;\">\n",
              "      <th></th>\n",
              "      <th>age</th>\n",
              "      <th>balance</th>\n",
              "      <th>duration</th>\n",
              "      <th>y</th>\n",
              "      <th>job_blue-collar</th>\n",
              "      <th>job_entrepreneur</th>\n",
              "      <th>job_housemaid</th>\n",
              "      <th>job_management</th>\n",
              "      <th>job_retired</th>\n",
              "      <th>job_self-employed</th>\n",
              "      <th>job_services</th>\n",
              "      <th>job_student</th>\n",
              "      <th>job_technician</th>\n",
              "      <th>job_unemployed</th>\n",
              "      <th>job_unknown</th>\n",
              "      <th>marital_married</th>\n",
              "      <th>marital_single</th>\n",
              "      <th>education_secondary</th>\n",
              "      <th>education_tertiary</th>\n",
              "      <th>education_unknown</th>\n",
              "      <th>housing_yes</th>\n",
              "      <th>loan_yes</th>\n",
              "      <th>contact_telephone</th>\n",
              "      <th>contact_unknown</th>\n",
              "    </tr>\n",
              "  </thead>\n",
              "  <tbody>\n",
              "    <tr>\n",
              "      <th>0</th>\n",
              "      <td>4.060443</td>\n",
              "      <td>2143</td>\n",
              "      <td>261</td>\n",
              "      <td>0</td>\n",
              "      <td>0</td>\n",
              "      <td>0</td>\n",
              "      <td>0</td>\n",
              "      <td>1</td>\n",
              "      <td>0</td>\n",
              "      <td>0</td>\n",
              "      <td>0</td>\n",
              "      <td>0</td>\n",
              "      <td>0</td>\n",
              "      <td>0</td>\n",
              "      <td>0</td>\n",
              "      <td>1</td>\n",
              "      <td>0</td>\n",
              "      <td>0</td>\n",
              "      <td>1</td>\n",
              "      <td>0</td>\n",
              "      <td>1</td>\n",
              "      <td>0</td>\n",
              "      <td>0</td>\n",
              "      <td>1</td>\n",
              "    </tr>\n",
              "    <tr>\n",
              "      <th>1</th>\n",
              "      <td>3.784190</td>\n",
              "      <td>29</td>\n",
              "      <td>151</td>\n",
              "      <td>0</td>\n",
              "      <td>0</td>\n",
              "      <td>0</td>\n",
              "      <td>0</td>\n",
              "      <td>0</td>\n",
              "      <td>0</td>\n",
              "      <td>0</td>\n",
              "      <td>0</td>\n",
              "      <td>0</td>\n",
              "      <td>1</td>\n",
              "      <td>0</td>\n",
              "      <td>0</td>\n",
              "      <td>0</td>\n",
              "      <td>1</td>\n",
              "      <td>1</td>\n",
              "      <td>0</td>\n",
              "      <td>0</td>\n",
              "      <td>1</td>\n",
              "      <td>0</td>\n",
              "      <td>0</td>\n",
              "      <td>1</td>\n",
              "    </tr>\n",
              "    <tr>\n",
              "      <th>2</th>\n",
              "      <td>3.496508</td>\n",
              "      <td>2</td>\n",
              "      <td>76</td>\n",
              "      <td>0</td>\n",
              "      <td>0</td>\n",
              "      <td>1</td>\n",
              "      <td>0</td>\n",
              "      <td>0</td>\n",
              "      <td>0</td>\n",
              "      <td>0</td>\n",
              "      <td>0</td>\n",
              "      <td>0</td>\n",
              "      <td>0</td>\n",
              "      <td>0</td>\n",
              "      <td>0</td>\n",
              "      <td>1</td>\n",
              "      <td>0</td>\n",
              "      <td>1</td>\n",
              "      <td>0</td>\n",
              "      <td>0</td>\n",
              "      <td>1</td>\n",
              "      <td>1</td>\n",
              "      <td>0</td>\n",
              "      <td>1</td>\n",
              "    </tr>\n",
              "    <tr>\n",
              "      <th>3</th>\n",
              "      <td>3.850148</td>\n",
              "      <td>1506</td>\n",
              "      <td>92</td>\n",
              "      <td>0</td>\n",
              "      <td>1</td>\n",
              "      <td>0</td>\n",
              "      <td>0</td>\n",
              "      <td>0</td>\n",
              "      <td>0</td>\n",
              "      <td>0</td>\n",
              "      <td>0</td>\n",
              "      <td>0</td>\n",
              "      <td>0</td>\n",
              "      <td>0</td>\n",
              "      <td>0</td>\n",
              "      <td>1</td>\n",
              "      <td>0</td>\n",
              "      <td>0</td>\n",
              "      <td>0</td>\n",
              "      <td>1</td>\n",
              "      <td>1</td>\n",
              "      <td>0</td>\n",
              "      <td>0</td>\n",
              "      <td>1</td>\n",
              "    </tr>\n",
              "    <tr>\n",
              "      <th>4</th>\n",
              "      <td>3.496508</td>\n",
              "      <td>1</td>\n",
              "      <td>198</td>\n",
              "      <td>0</td>\n",
              "      <td>0</td>\n",
              "      <td>0</td>\n",
              "      <td>0</td>\n",
              "      <td>0</td>\n",
              "      <td>0</td>\n",
              "      <td>0</td>\n",
              "      <td>0</td>\n",
              "      <td>0</td>\n",
              "      <td>0</td>\n",
              "      <td>0</td>\n",
              "      <td>1</td>\n",
              "      <td>0</td>\n",
              "      <td>1</td>\n",
              "      <td>0</td>\n",
              "      <td>0</td>\n",
              "      <td>1</td>\n",
              "      <td>0</td>\n",
              "      <td>0</td>\n",
              "      <td>0</td>\n",
              "      <td>1</td>\n",
              "    </tr>\n",
              "  </tbody>\n",
              "</table>\n",
              "</div>"
            ],
            "text/plain": [
              "        age  balance  duration  ...  loan_yes  contact_telephone  contact_unknown\n",
              "0  4.060443     2143       261  ...         0                  0                1\n",
              "1  3.784190       29       151  ...         0                  0                1\n",
              "2  3.496508        2        76  ...         1                  0                1\n",
              "3  3.850148     1506        92  ...         0                  0                1\n",
              "4  3.496508        1       198  ...         0                  0                1\n",
              "\n",
              "[5 rows x 24 columns]"
            ]
          },
          "metadata": {
            "tags": []
          },
          "execution_count": 52
        }
      ]
    },
    {
      "cell_type": "markdown",
      "metadata": {
        "id": "yXNpBJuQmysm"
      },
      "source": [
        "### 4. Model "
      ]
    },
    {
      "cell_type": "code",
      "metadata": {
        "id": "MR7wSzTWCEH2"
      },
      "source": [
        "from sklearn.model_selection import train_test_split, cross_val_score, KFold, GridSearchCV, RandomizedSearchCV\r\n",
        "from sklearn.metrics import accuracy_score, f1_score, confusion_matrix\r\n",
        "from sklearn.preprocessing import MinMaxScaler, StandardScaler, RobustScaler \r\n",
        "from sklearn.pipeline import make_pipeline\r\n",
        "from sklearn.linear_model import LogisticRegression\r\n",
        "from sklearn.svm import LinearSVC\r\n",
        "from sklearn.ensemble import RandomForestClassifier"
      ],
      "execution_count": 53,
      "outputs": []
    },
    {
      "cell_type": "code",
      "metadata": {
        "id": "ggU-9cAFmjeu"
      },
      "source": [
        "X = df.drop('y', axis=1)\r\n",
        "y = df['y']"
      ],
      "execution_count": 54,
      "outputs": []
    },
    {
      "cell_type": "code",
      "metadata": {
        "id": "Bl95511FswF4"
      },
      "source": [
        "# train test split\r\n",
        "X_train, X_test, y_train, y_test = train_test_split(X, y, random_state=21)\r\n",
        "sc = RobustScaler().fit(X_train)"
      ],
      "execution_count": 55,
      "outputs": []
    },
    {
      "cell_type": "code",
      "metadata": {
        "id": "Fs97bWKC7RQP"
      },
      "source": [
        "# scaling\r\n",
        "X_train = sc.transform(X_train)\r\n",
        "X_test = sc.transform(X_test)"
      ],
      "execution_count": 56,
      "outputs": []
    },
    {
      "cell_type": "markdown",
      "metadata": {
        "id": "AgvOFV9m7W5U"
      },
      "source": [
        "### Logistic Regression"
      ]
    },
    {
      "cell_type": "code",
      "metadata": {
        "colab": {
          "base_uri": "https://localhost:8080/"
        },
        "id": "CrN5R16Qf8nv",
        "outputId": "b153e139-0b7d-44f0-c923-1008c4d80f9b"
      },
      "source": [
        "# logistic regression \r\n",
        "clf_lr_1 = LogisticRegression()\r\n",
        "clf_lr_1.fit(X_train, y_train)\r\n",
        "y_pred = clf_lr_1.predict(X_test)\r\n",
        "print(confusion_matrix(y_test, y_pred))\r\n",
        "print(\"accuracy score: \", accuracy_score(y_test, y_pred))"
      ],
      "execution_count": 57,
      "outputs": [
        {
          "output_type": "stream",
          "text": [
            "[[9151  138]\n",
            " [ 519  192]]\n",
            "accuracy score:  0.9343\n"
          ],
          "name": "stdout"
        }
      ]
    },
    {
      "cell_type": "code",
      "metadata": {
        "colab": {
          "base_uri": "https://localhost:8080/"
        },
        "id": "tR7oAEOD65of",
        "outputId": "faeeaa74-68c3-44b7-f0a1-2d67d15c5b22"
      },
      "source": [
        "# logistic regression with adjusted weights for target variable\r\n",
        "clf_lr_2 = LogisticRegression(class_weight=\"balanced\")\r\n",
        "clf_lr_2.fit(X_train, y_train)\r\n",
        "y_pred = clf_lr_2.predict(X_test)\r\n",
        "print(confusion_matrix(y_test, y_pred))\r\n",
        "print(\"accuracy score: \", accuracy_score(y_test, y_pred))"
      ],
      "execution_count": 58,
      "outputs": [
        {
          "output_type": "stream",
          "text": [
            "[[7920 1369]\n",
            " [ 164  547]]\n",
            "accuracy score:  0.8467\n"
          ],
          "name": "stdout"
        }
      ]
    },
    {
      "cell_type": "code",
      "metadata": {
        "colab": {
          "base_uri": "https://localhost:8080/"
        },
        "id": "qbIBR4Se5hWZ",
        "outputId": "fb861053-ba8a-424c-f47c-4d9df83d6ff1"
      },
      "source": [
        "# cross validated logistic regression\r\n",
        "clf_lr_3 = LogisticRegression(class_weight=\"balanced\")\r\n",
        "clf_pipe = make_pipeline(RobustScaler(), clf_lr_3)\r\n",
        "scores = cross_val_score(clf_pipe, X, y, cv=5, scoring=\"accuracy\")\r\n",
        "print(\"mean accuracy score: \", scores.mean().round(3))\r\n",
        "print(\"min accuracy score: \", scores.min().round(3))\r\n",
        "print(\"max accuracy score: \", scores.max().round(3))"
      ],
      "execution_count": 59,
      "outputs": [
        {
          "output_type": "stream",
          "text": [
            "mean accuracy score:  0.838\n",
            "min accuracy score:  0.785\n",
            "max accuracy score:  0.949\n"
          ],
          "name": "stdout"
        }
      ]
    },
    {
      "cell_type": "code",
      "metadata": {
        "colab": {
          "base_uri": "https://localhost:8080/"
        },
        "id": "hD-hJuCJ-3XX",
        "outputId": "60f7128e-23d3-43f0-e201-33f93f5a0782"
      },
      "source": [
        "# hyperparameter tuning\r\n",
        "import warnings\r\n",
        "warnings.filterwarnings('ignore')\r\n",
        "\r\n",
        "# Create the hyperparameter grid\r\n",
        "param_grid = {\"solver\": [\"lbfgs\", \"liblinear\", \"saga\"], \"penalty\": [\"l1\", \"l2\", \"elasticnet\"], \"l1_ratio\":[None, 0.3,0.7],\r\n",
        "              \"C\": [0.01, 0.1, 1, 10], \"class_weight\":[\"balanced\"]}\r\n",
        "\r\n",
        "\r\n",
        "# Instantiate classifier and GridSearchCV, fit\r\n",
        "clf_lr = LogisticRegression(random_state=21)\r\n",
        "lr_cv = RandomizedSearchCV(clf_lr, param_grid, cv=5, scoring=\"roc_auc\", refit=True)\r\n",
        "lr_cv.fit(X, y)\r\n",
        "\r\n",
        "# Print the best estimator, optimal parameters and best score\r\n",
        "print(\"Best Estimator: \", lr_cv.best_estimator_)\r\n",
        "print(\"Tuned Parameters: {}\".format(lr_cv.best_params_))\r\n",
        "print(\"Tuned ROC AUC Score: {}\".format(lr_cv.best_score_.round(3)))"
      ],
      "execution_count": 60,
      "outputs": [
        {
          "output_type": "stream",
          "text": [
            "Best Estimator:  LogisticRegression(C=0.1, class_weight='balanced', dual=False,\n",
            "                   fit_intercept=True, intercept_scaling=1, l1_ratio=0.7,\n",
            "                   max_iter=100, multi_class='auto', n_jobs=None, penalty='l2',\n",
            "                   random_state=21, solver='lbfgs', tol=0.0001, verbose=0,\n",
            "                   warm_start=False)\n",
            "Tuned Parameters: {'solver': 'lbfgs', 'penalty': 'l2', 'l1_ratio': 0.7, 'class_weight': 'balanced', 'C': 0.1}\n",
            "Tuned ROC AUC Score: 0.885\n"
          ],
          "name": "stdout"
        }
      ]
    },
    {
      "cell_type": "markdown",
      "metadata": {
        "id": "jGKGCT6AEF-t"
      },
      "source": [
        "Since this is an unbalanced dataset, I optimized it for \"ROC AUC\" score, not for \"Accuracy\". Below we can see the cross validated accuracy score for tuned model:\r\n"
      ]
    },
    {
      "cell_type": "code",
      "metadata": {
        "colab": {
          "base_uri": "https://localhost:8080/"
        },
        "id": "BwEPv-kyju8a",
        "outputId": "5edf940b-7af0-431b-8281-360f7491e91c"
      },
      "source": [
        "scores_lr_cv = cross_val_score(lr_cv.best_estimator_, X, y, cv=5, scoring=\"accuracy\")\r\n",
        "print(\"mean accuracy score: \", scores_lr_cv.mean().round(3))"
      ],
      "execution_count": 61,
      "outputs": [
        {
          "output_type": "stream",
          "text": [
            "mean accuracy score:  0.843\n"
          ],
          "name": "stdout"
        }
      ]
    },
    {
      "cell_type": "markdown",
      "metadata": {
        "id": "usQtVhXwUsIu"
      },
      "source": [
        "### LinearSVC"
      ]
    },
    {
      "cell_type": "code",
      "metadata": {
        "colab": {
          "base_uri": "https://localhost:8080/"
        },
        "id": "u5Z9HcnoEqrP",
        "outputId": "9fe9abad-b3e4-49c8-8ca2-7b29116a3cc1"
      },
      "source": [
        "#cross validated SVC\r\n",
        "svc_1 = LinearSVC(class_weight=\"balanced\", random_state=21)\r\n",
        "scores_svc_cv = cross_val_score(svc_1, X, y, cv=5, scoring='accuracy')\r\n",
        "print(scores_svc_cv.mean().round(3))"
      ],
      "execution_count": 62,
      "outputs": [
        {
          "output_type": "stream",
          "text": [
            "0.926\n"
          ],
          "name": "stdout"
        }
      ]
    },
    {
      "cell_type": "code",
      "metadata": {
        "id": "J1pe6_zdEqom",
        "colab": {
          "base_uri": "https://localhost:8080/"
        },
        "outputId": "857c1fad-0766-4705-e3bc-67097efc52bd"
      },
      "source": [
        "# Create the hyperparameter grid\r\n",
        "param_grid =  {\"penalty\": [\"l1\", \"l2\"], 'C': [0.01, 0.1, 1],  \"class_weight\":[\"balanced\"]}\r\n",
        "\r\n",
        "# Instantiate classifier and GridSearchCV, fit\r\n",
        "clf_svc = LinearSVC(random_state=21)\r\n",
        "svc_cv = GridSearchCV(clf_svc, param_grid, cv=5, scoring=\"roc_auc\", refit=True)\r\n",
        "svc_cv.fit(X, y)\r\n",
        "\r\n",
        "# Print the best estimator, optimal parameters and best score\r\n",
        "print(\"Best Estimator: \", svc_cv.best_estimator_)\r\n",
        "print(\"Tuned Parameters: {}\".format(svc_cv.best_params_))\r\n",
        "print(\"Tuned ROC AUC Score: {}\".format(svc_cv.best_score_.round(3)))"
      ],
      "execution_count": 63,
      "outputs": [
        {
          "output_type": "stream",
          "text": [
            "Best Estimator:  LinearSVC(C=0.1, class_weight='balanced', dual=True, fit_intercept=True,\n",
            "          intercept_scaling=1, loss='squared_hinge', max_iter=1000,\n",
            "          multi_class='ovr', penalty='l2', random_state=21, tol=0.0001,\n",
            "          verbose=0)\n",
            "Tuned Parameters: {'C': 0.1, 'class_weight': 'balanced', 'penalty': 'l2'}\n",
            "Tuned ROC AUC Score: 0.807\n"
          ],
          "name": "stdout"
        }
      ]
    },
    {
      "cell_type": "code",
      "metadata": {
        "id": "Efx2geIFmHi7",
        "colab": {
          "base_uri": "https://localhost:8080/"
        },
        "outputId": "41d94a01-618a-47b3-fe26-f98b1b2acdda"
      },
      "source": [
        "scores_svc_cv = cross_val_score(svc_cv.best_estimator_, X, y, cv=5, scoring=\"accuracy\")\r\n",
        "print(\"mean accuracy score: \", scores_svc_cv.mean().round(3))"
      ],
      "execution_count": 64,
      "outputs": [
        {
          "output_type": "stream",
          "text": [
            "mean accuracy score:  0.901\n"
          ],
          "name": "stdout"
        }
      ]
    },
    {
      "cell_type": "markdown",
      "metadata": {
        "id": "ngGXyZ1-Gaq2"
      },
      "source": [
        "### RandomForestClassifier"
      ]
    },
    {
      "cell_type": "code",
      "metadata": {
        "colab": {
          "base_uri": "https://localhost:8080/"
        },
        "id": "PaGzgR7VLpsv",
        "outputId": "20e2a89b-0438-4696-dee8-212630b82403"
      },
      "source": [
        "#cross validated random forest\r\n",
        "rf_1 = RandomForestClassifier(n_estimators=150, max_depth=6, class_weight=\"balanced\", random_state=21)\r\n",
        "scores_rf_cv = cross_val_score(rf_1, X, y, cv=5, scoring='accuracy')\r\n",
        "print(scores_rf_cv.mean().round(3))"
      ],
      "execution_count": 65,
      "outputs": [
        {
          "output_type": "stream",
          "text": [
            "0.854\n"
          ],
          "name": "stdout"
        }
      ]
    },
    {
      "cell_type": "code",
      "metadata": {
        "colab": {
          "base_uri": "https://localhost:8080/"
        },
        "id": "ELdrSM8I_SL_",
        "outputId": "e5a35953-4ead-4363-da8d-d4e438c1bde3"
      },
      "source": [
        "# Create the hyperparameter grid\r\n",
        "param_grid = {\"criterion\": [\"gini\"], \"min_samples_split\": [2, 5, 10], \r\n",
        "              \"max_depth\": [None, 2, 5, 10],\"max_features\": [None, \"auto\", \"log2\"],\r\n",
        "              \"n_estimators\":[50,150,500], \"class_weight\":[\"balanced\"]}\r\n",
        "\r\n",
        "# Instantiate classifier and GridSearchCV, fit\r\n",
        "clf_rf = RandomForestClassifier(random_state=21)\r\n",
        "rf_cv = RandomizedSearchCV(clf_rf, param_grid, cv=5, scoring=\"roc_auc\", refit=True)\r\n",
        "rf_cv.fit(X, y)\r\n",
        "\r\n",
        "# Print the best estimator, optimal parameters and best score\r\n",
        "print(\"Best Estimator: \", rf_cv.best_estimator_)\r\n",
        "print(\"Tuned Parameters: {}\".format(rf_cv.best_params_))\r\n",
        "print(\"Tuned ROC AUC Score: {}\".format(rf_cv.best_score_.round(3)))"
      ],
      "execution_count": 66,
      "outputs": [
        {
          "output_type": "stream",
          "text": [
            "Best Estimator:  RandomForestClassifier(bootstrap=True, ccp_alpha=0.0, class_weight='balanced',\n",
            "                       criterion='gini', max_depth=5, max_features='log2',\n",
            "                       max_leaf_nodes=None, max_samples=None,\n",
            "                       min_impurity_decrease=0.0, min_impurity_split=None,\n",
            "                       min_samples_leaf=1, min_samples_split=2,\n",
            "                       min_weight_fraction_leaf=0.0, n_estimators=150,\n",
            "                       n_jobs=None, oob_score=False, random_state=21, verbose=0,\n",
            "                       warm_start=False)\n",
            "Tuned Parameters: {'n_estimators': 150, 'min_samples_split': 2, 'max_features': 'log2', 'max_depth': 5, 'criterion': 'gini', 'class_weight': 'balanced'}\n",
            "Tuned ROC AUC Score: 0.871\n"
          ],
          "name": "stdout"
        }
      ]
    },
    {
      "cell_type": "code",
      "metadata": {
        "colab": {
          "base_uri": "https://localhost:8080/"
        },
        "id": "Q3ZthAukEquL",
        "outputId": "4e2a3587-5ee3-48c7-99a2-60492b8caa68"
      },
      "source": [
        "scores_rf_cv = cross_val_score(rf_cv.best_estimator_, X, y, cv=5, scoring=\"accuracy\")\r\n",
        "print(\"mean accuracy score: \", scores_rf_cv.mean().round(3))"
      ],
      "execution_count": 67,
      "outputs": [
        {
          "output_type": "stream",
          "text": [
            "mean accuracy score:  0.857\n"
          ],
          "name": "stdout"
        }
      ]
    },
    {
      "cell_type": "markdown",
      "metadata": {
        "id": "fL6Mt6po_gJU"
      },
      "source": [
        "### Model Summary"
      ]
    },
    {
      "cell_type": "markdown",
      "metadata": {
        "id": "eMY2r693_kGo"
      },
      "source": [
        "**We get 84.3% average accuracy with Logistic Regression, 90% average accuracy with Linear SVC and 85.7% average accuracy with Random Forest Classifier.** Since we have an imbalance dataset and the goal is to achieve 81% or above accuracy, I try to optimize \"roc auc\" score rather than the \"accuracy\"."
      ]
    },
    {
      "cell_type": "markdown",
      "metadata": {
        "id": "28KNHsVC4U__"
      },
      "source": [
        "### Segments of customers to prioritize"
      ]
    },
    {
      "cell_type": "code",
      "metadata": {
        "colab": {
          "base_uri": "https://localhost:8080/",
          "height": 343
        },
        "id": "ZUA-BIImculD",
        "outputId": "a344cec6-0ccc-4018-bb53-fae2bb1f7fab"
      },
      "source": [
        "df_1= pd.read_csv(\"/content/drive/MyDrive/Colab Notebooks/Case/term-deposit-marketing-2020.csv\")\r\n",
        "df_1.head(10)"
      ],
      "execution_count": 68,
      "outputs": [
        {
          "output_type": "execute_result",
          "data": {
            "text/html": [
              "<div>\n",
              "<style scoped>\n",
              "    .dataframe tbody tr th:only-of-type {\n",
              "        vertical-align: middle;\n",
              "    }\n",
              "\n",
              "    .dataframe tbody tr th {\n",
              "        vertical-align: top;\n",
              "    }\n",
              "\n",
              "    .dataframe thead th {\n",
              "        text-align: right;\n",
              "    }\n",
              "</style>\n",
              "<table border=\"1\" class=\"dataframe\">\n",
              "  <thead>\n",
              "    <tr style=\"text-align: right;\">\n",
              "      <th></th>\n",
              "      <th>age</th>\n",
              "      <th>job</th>\n",
              "      <th>marital</th>\n",
              "      <th>education</th>\n",
              "      <th>default</th>\n",
              "      <th>balance</th>\n",
              "      <th>housing</th>\n",
              "      <th>loan</th>\n",
              "      <th>contact</th>\n",
              "      <th>day</th>\n",
              "      <th>month</th>\n",
              "      <th>duration</th>\n",
              "      <th>campaign</th>\n",
              "      <th>y</th>\n",
              "    </tr>\n",
              "  </thead>\n",
              "  <tbody>\n",
              "    <tr>\n",
              "      <th>0</th>\n",
              "      <td>58</td>\n",
              "      <td>management</td>\n",
              "      <td>married</td>\n",
              "      <td>tertiary</td>\n",
              "      <td>no</td>\n",
              "      <td>2143</td>\n",
              "      <td>yes</td>\n",
              "      <td>no</td>\n",
              "      <td>unknown</td>\n",
              "      <td>5</td>\n",
              "      <td>may</td>\n",
              "      <td>261</td>\n",
              "      <td>1</td>\n",
              "      <td>no</td>\n",
              "    </tr>\n",
              "    <tr>\n",
              "      <th>1</th>\n",
              "      <td>44</td>\n",
              "      <td>technician</td>\n",
              "      <td>single</td>\n",
              "      <td>secondary</td>\n",
              "      <td>no</td>\n",
              "      <td>29</td>\n",
              "      <td>yes</td>\n",
              "      <td>no</td>\n",
              "      <td>unknown</td>\n",
              "      <td>5</td>\n",
              "      <td>may</td>\n",
              "      <td>151</td>\n",
              "      <td>1</td>\n",
              "      <td>no</td>\n",
              "    </tr>\n",
              "    <tr>\n",
              "      <th>2</th>\n",
              "      <td>33</td>\n",
              "      <td>entrepreneur</td>\n",
              "      <td>married</td>\n",
              "      <td>secondary</td>\n",
              "      <td>no</td>\n",
              "      <td>2</td>\n",
              "      <td>yes</td>\n",
              "      <td>yes</td>\n",
              "      <td>unknown</td>\n",
              "      <td>5</td>\n",
              "      <td>may</td>\n",
              "      <td>76</td>\n",
              "      <td>1</td>\n",
              "      <td>no</td>\n",
              "    </tr>\n",
              "    <tr>\n",
              "      <th>3</th>\n",
              "      <td>47</td>\n",
              "      <td>blue-collar</td>\n",
              "      <td>married</td>\n",
              "      <td>unknown</td>\n",
              "      <td>no</td>\n",
              "      <td>1506</td>\n",
              "      <td>yes</td>\n",
              "      <td>no</td>\n",
              "      <td>unknown</td>\n",
              "      <td>5</td>\n",
              "      <td>may</td>\n",
              "      <td>92</td>\n",
              "      <td>1</td>\n",
              "      <td>no</td>\n",
              "    </tr>\n",
              "    <tr>\n",
              "      <th>4</th>\n",
              "      <td>33</td>\n",
              "      <td>unknown</td>\n",
              "      <td>single</td>\n",
              "      <td>unknown</td>\n",
              "      <td>no</td>\n",
              "      <td>1</td>\n",
              "      <td>no</td>\n",
              "      <td>no</td>\n",
              "      <td>unknown</td>\n",
              "      <td>5</td>\n",
              "      <td>may</td>\n",
              "      <td>198</td>\n",
              "      <td>1</td>\n",
              "      <td>no</td>\n",
              "    </tr>\n",
              "    <tr>\n",
              "      <th>5</th>\n",
              "      <td>35</td>\n",
              "      <td>management</td>\n",
              "      <td>married</td>\n",
              "      <td>tertiary</td>\n",
              "      <td>no</td>\n",
              "      <td>231</td>\n",
              "      <td>yes</td>\n",
              "      <td>no</td>\n",
              "      <td>unknown</td>\n",
              "      <td>5</td>\n",
              "      <td>may</td>\n",
              "      <td>139</td>\n",
              "      <td>1</td>\n",
              "      <td>no</td>\n",
              "    </tr>\n",
              "    <tr>\n",
              "      <th>6</th>\n",
              "      <td>28</td>\n",
              "      <td>management</td>\n",
              "      <td>single</td>\n",
              "      <td>tertiary</td>\n",
              "      <td>no</td>\n",
              "      <td>447</td>\n",
              "      <td>yes</td>\n",
              "      <td>yes</td>\n",
              "      <td>unknown</td>\n",
              "      <td>5</td>\n",
              "      <td>may</td>\n",
              "      <td>217</td>\n",
              "      <td>1</td>\n",
              "      <td>no</td>\n",
              "    </tr>\n",
              "    <tr>\n",
              "      <th>7</th>\n",
              "      <td>42</td>\n",
              "      <td>entrepreneur</td>\n",
              "      <td>divorced</td>\n",
              "      <td>tertiary</td>\n",
              "      <td>yes</td>\n",
              "      <td>2</td>\n",
              "      <td>yes</td>\n",
              "      <td>no</td>\n",
              "      <td>unknown</td>\n",
              "      <td>5</td>\n",
              "      <td>may</td>\n",
              "      <td>380</td>\n",
              "      <td>1</td>\n",
              "      <td>no</td>\n",
              "    </tr>\n",
              "    <tr>\n",
              "      <th>8</th>\n",
              "      <td>58</td>\n",
              "      <td>retired</td>\n",
              "      <td>married</td>\n",
              "      <td>primary</td>\n",
              "      <td>no</td>\n",
              "      <td>121</td>\n",
              "      <td>yes</td>\n",
              "      <td>no</td>\n",
              "      <td>unknown</td>\n",
              "      <td>5</td>\n",
              "      <td>may</td>\n",
              "      <td>50</td>\n",
              "      <td>1</td>\n",
              "      <td>no</td>\n",
              "    </tr>\n",
              "    <tr>\n",
              "      <th>9</th>\n",
              "      <td>43</td>\n",
              "      <td>technician</td>\n",
              "      <td>single</td>\n",
              "      <td>secondary</td>\n",
              "      <td>no</td>\n",
              "      <td>593</td>\n",
              "      <td>yes</td>\n",
              "      <td>no</td>\n",
              "      <td>unknown</td>\n",
              "      <td>5</td>\n",
              "      <td>may</td>\n",
              "      <td>55</td>\n",
              "      <td>1</td>\n",
              "      <td>no</td>\n",
              "    </tr>\n",
              "  </tbody>\n",
              "</table>\n",
              "</div>"
            ],
            "text/plain": [
              "   age           job   marital  education  ... month  duration campaign   y\n",
              "0   58    management   married   tertiary  ...   may       261        1  no\n",
              "1   44    technician    single  secondary  ...   may       151        1  no\n",
              "2   33  entrepreneur   married  secondary  ...   may        76        1  no\n",
              "3   47   blue-collar   married    unknown  ...   may        92        1  no\n",
              "4   33       unknown    single    unknown  ...   may       198        1  no\n",
              "5   35    management   married   tertiary  ...   may       139        1  no\n",
              "6   28    management    single   tertiary  ...   may       217        1  no\n",
              "7   42  entrepreneur  divorced   tertiary  ...   may       380        1  no\n",
              "8   58       retired   married    primary  ...   may        50        1  no\n",
              "9   43    technician    single  secondary  ...   may        55        1  no\n",
              "\n",
              "[10 rows x 14 columns]"
            ]
          },
          "metadata": {
            "tags": []
          },
          "execution_count": 68
        }
      ]
    },
    {
      "cell_type": "code",
      "metadata": {
        "colab": {
          "base_uri": "https://localhost:8080/"
        },
        "id": "pZOogN8mc65H",
        "outputId": "25831c44-68b3-4990-cd7c-3a2e90d28dc3"
      },
      "source": [
        "# summary statistics for \"age\" variable\r\n",
        "df_1.age.describe()"
      ],
      "execution_count": 69,
      "outputs": [
        {
          "output_type": "execute_result",
          "data": {
            "text/plain": [
              "count    40000.000000\n",
              "mean        40.544600\n",
              "std          9.641776\n",
              "min         19.000000\n",
              "25%         33.000000\n",
              "50%         39.000000\n",
              "75%         48.000000\n",
              "max         95.000000\n",
              "Name: age, dtype: float64"
            ]
          },
          "metadata": {
            "tags": []
          },
          "execution_count": 69
        }
      ]
    },
    {
      "cell_type": "code",
      "metadata": {
        "id": "TAncnNqvdMlZ"
      },
      "source": [
        "# categorize \"age\" variable\r\n",
        "labels = ['Adult (19-29)', 'Middle Age (30-49)', 'Old (50-95)']\r\n",
        "bins=[0,29,49,95]\r\n",
        "df_1[\"age\"] = pd.cut(df_1['age'], bins=bins, labels=labels)\r\n"
      ],
      "execution_count": 70,
      "outputs": []
    },
    {
      "cell_type": "code",
      "metadata": {
        "colab": {
          "base_uri": "https://localhost:8080/",
          "height": 343
        },
        "id": "WBB2NPE4t3as",
        "outputId": "125beae7-16be-4b53-e33c-733f34f021eb"
      },
      "source": [
        "# build segments based on their \"age\", \"job\" and \"education\" categories,\r\n",
        "# then sort them by subscription percentage\r\n",
        "df_segments = df_1.groupby([\"age\", \"job\", \"education\"])[\"y\"].value_counts(normalize=True).reset_index(name=\"percentage\").sort_values([\"y\", \"percentage\"], ascending=False)\r\n",
        "df_segments.head(10)"
      ],
      "execution_count": 71,
      "outputs": [
        {
          "output_type": "execute_result",
          "data": {
            "text/html": [
              "<div>\n",
              "<style scoped>\n",
              "    .dataframe tbody tr th:only-of-type {\n",
              "        vertical-align: middle;\n",
              "    }\n",
              "\n",
              "    .dataframe tbody tr th {\n",
              "        vertical-align: top;\n",
              "    }\n",
              "\n",
              "    .dataframe thead th {\n",
              "        text-align: right;\n",
              "    }\n",
              "</style>\n",
              "<table border=\"1\" class=\"dataframe\">\n",
              "  <thead>\n",
              "    <tr style=\"text-align: right;\">\n",
              "      <th></th>\n",
              "      <th>age</th>\n",
              "      <th>job</th>\n",
              "      <th>education</th>\n",
              "      <th>y</th>\n",
              "      <th>percentage</th>\n",
              "    </tr>\n",
              "  </thead>\n",
              "  <tbody>\n",
              "    <tr>\n",
              "      <th>28</th>\n",
              "      <td>Adult (19-29)</td>\n",
              "      <td>management</td>\n",
              "      <td>primary</td>\n",
              "      <td>yes</td>\n",
              "      <td>0.500000</td>\n",
              "    </tr>\n",
              "    <tr>\n",
              "      <th>50</th>\n",
              "      <td>Adult (19-29)</td>\n",
              "      <td>student</td>\n",
              "      <td>primary</td>\n",
              "      <td>yes</td>\n",
              "      <td>0.307692</td>\n",
              "    </tr>\n",
              "    <tr>\n",
              "      <th>65</th>\n",
              "      <td>Adult (19-29)</td>\n",
              "      <td>unemployed</td>\n",
              "      <td>primary</td>\n",
              "      <td>yes</td>\n",
              "      <td>0.285714</td>\n",
              "    </tr>\n",
              "    <tr>\n",
              "      <th>26</th>\n",
              "      <td>Adult (19-29)</td>\n",
              "      <td>housemaid</td>\n",
              "      <td>tertiary</td>\n",
              "      <td>yes</td>\n",
              "      <td>0.250000</td>\n",
              "    </tr>\n",
              "    <tr>\n",
              "      <th>7</th>\n",
              "      <td>Adult (19-29)</td>\n",
              "      <td>admin</td>\n",
              "      <td>unknown</td>\n",
              "      <td>yes</td>\n",
              "      <td>0.230769</td>\n",
              "    </tr>\n",
              "    <tr>\n",
              "      <th>73</th>\n",
              "      <td>Adult (19-29)</td>\n",
              "      <td>unknown</td>\n",
              "      <td>secondary</td>\n",
              "      <td>yes</td>\n",
              "      <td>0.222222</td>\n",
              "    </tr>\n",
              "    <tr>\n",
              "      <th>17</th>\n",
              "      <td>Adult (19-29)</td>\n",
              "      <td>entrepreneur</td>\n",
              "      <td>primary</td>\n",
              "      <td>yes</td>\n",
              "      <td>0.200000</td>\n",
              "    </tr>\n",
              "    <tr>\n",
              "      <th>137</th>\n",
              "      <td>Middle Age (30-49)</td>\n",
              "      <td>student</td>\n",
              "      <td>primary</td>\n",
              "      <td>yes</td>\n",
              "      <td>0.200000</td>\n",
              "    </tr>\n",
              "    <tr>\n",
              "      <th>37</th>\n",
              "      <td>Adult (19-29)</td>\n",
              "      <td>self-employed</td>\n",
              "      <td>secondary</td>\n",
              "      <td>yes</td>\n",
              "      <td>0.186047</td>\n",
              "    </tr>\n",
              "    <tr>\n",
              "      <th>48</th>\n",
              "      <td>Adult (19-29)</td>\n",
              "      <td>services</td>\n",
              "      <td>unknown</td>\n",
              "      <td>yes</td>\n",
              "      <td>0.181818</td>\n",
              "    </tr>\n",
              "  </tbody>\n",
              "</table>\n",
              "</div>"
            ],
            "text/plain": [
              "                    age            job  education    y  percentage\n",
              "28        Adult (19-29)     management    primary  yes    0.500000\n",
              "50        Adult (19-29)        student    primary  yes    0.307692\n",
              "65        Adult (19-29)     unemployed    primary  yes    0.285714\n",
              "26        Adult (19-29)      housemaid   tertiary  yes    0.250000\n",
              "7         Adult (19-29)          admin    unknown  yes    0.230769\n",
              "73        Adult (19-29)        unknown  secondary  yes    0.222222\n",
              "17        Adult (19-29)   entrepreneur    primary  yes    0.200000\n",
              "137  Middle Age (30-49)        student    primary  yes    0.200000\n",
              "37        Adult (19-29)  self-employed  secondary  yes    0.186047\n",
              "48        Adult (19-29)       services    unknown  yes    0.181818"
            ]
          },
          "metadata": {
            "tags": []
          },
          "execution_count": 71
        }
      ]
    },
    {
      "cell_type": "code",
      "metadata": {
        "colab": {
          "base_uri": "https://localhost:8080/",
          "height": 166
        },
        "id": "fh9HqqRhvZ1v",
        "outputId": "c2bc3b03-841f-4069-a35e-376ea1ee5414"
      },
      "source": [
        "# Assign segment number\r\n",
        "df_segments = df_segments[[\"age\", \"job\", \"education\", \"percentage\"]].reset_index(drop=True).rename_axis('Segment No').reset_index()\r\n",
        "df_segments[\"Segment No\"] =df_segments[\"Segment No\"]+1\r\n",
        "df_segments.head(4)\r\n"
      ],
      "execution_count": 72,
      "outputs": [
        {
          "output_type": "execute_result",
          "data": {
            "text/html": [
              "<div>\n",
              "<style scoped>\n",
              "    .dataframe tbody tr th:only-of-type {\n",
              "        vertical-align: middle;\n",
              "    }\n",
              "\n",
              "    .dataframe tbody tr th {\n",
              "        vertical-align: top;\n",
              "    }\n",
              "\n",
              "    .dataframe thead th {\n",
              "        text-align: right;\n",
              "    }\n",
              "</style>\n",
              "<table border=\"1\" class=\"dataframe\">\n",
              "  <thead>\n",
              "    <tr style=\"text-align: right;\">\n",
              "      <th></th>\n",
              "      <th>Segment No</th>\n",
              "      <th>age</th>\n",
              "      <th>job</th>\n",
              "      <th>education</th>\n",
              "      <th>percentage</th>\n",
              "    </tr>\n",
              "  </thead>\n",
              "  <tbody>\n",
              "    <tr>\n",
              "      <th>0</th>\n",
              "      <td>1</td>\n",
              "      <td>Adult (19-29)</td>\n",
              "      <td>management</td>\n",
              "      <td>primary</td>\n",
              "      <td>0.500000</td>\n",
              "    </tr>\n",
              "    <tr>\n",
              "      <th>1</th>\n",
              "      <td>2</td>\n",
              "      <td>Adult (19-29)</td>\n",
              "      <td>student</td>\n",
              "      <td>primary</td>\n",
              "      <td>0.307692</td>\n",
              "    </tr>\n",
              "    <tr>\n",
              "      <th>2</th>\n",
              "      <td>3</td>\n",
              "      <td>Adult (19-29)</td>\n",
              "      <td>unemployed</td>\n",
              "      <td>primary</td>\n",
              "      <td>0.285714</td>\n",
              "    </tr>\n",
              "    <tr>\n",
              "      <th>3</th>\n",
              "      <td>4</td>\n",
              "      <td>Adult (19-29)</td>\n",
              "      <td>housemaid</td>\n",
              "      <td>tertiary</td>\n",
              "      <td>0.250000</td>\n",
              "    </tr>\n",
              "  </tbody>\n",
              "</table>\n",
              "</div>"
            ],
            "text/plain": [
              "   Segment No            age         job education  percentage\n",
              "0           1  Adult (19-29)  management   primary    0.500000\n",
              "1           2  Adult (19-29)     student   primary    0.307692\n",
              "2           3  Adult (19-29)  unemployed   primary    0.285714\n",
              "3           4  Adult (19-29)   housemaid  tertiary    0.250000"
            ]
          },
          "metadata": {
            "tags": []
          },
          "execution_count": 72
        }
      ]
    },
    {
      "cell_type": "markdown",
      "metadata": {
        "id": "NLMd3kn6zyc0"
      },
      "source": [
        "**The segments are sorted based on their subscription percentage and Top 4 segments can be seen from above table. The company should prioritize customers in this order. For example, first segment consists of customers whose age are between 19 and 29, whose job is management, whose education level is primary.**"
      ]
    },
    {
      "cell_type": "markdown",
      "metadata": {
        "id": "W1QZ-BkAanKn"
      },
      "source": [
        "### What makes the customers buy?"
      ]
    },
    {
      "cell_type": "code",
      "metadata": {
        "colab": {
          "base_uri": "https://localhost:8080/",
          "height": 136
        },
        "id": "KP9YQhA6bM-J",
        "outputId": "302ff8ce-afd8-4a29-de50-027eec50e0d0"
      },
      "source": [
        "pd.DataFrame({\"Faeture\": df.iloc[:, :-1].columns,\r\n",
        "              \"Feature Importances\" : rf_cv.best_estimator_.feature_importances_.round(3)}).sort_values(\"Feature Importances\", ascending=False).head(3)"
      ],
      "execution_count": 73,
      "outputs": [
        {
          "output_type": "execute_result",
          "data": {
            "text/html": [
              "<div>\n",
              "<style scoped>\n",
              "    .dataframe tbody tr th:only-of-type {\n",
              "        vertical-align: middle;\n",
              "    }\n",
              "\n",
              "    .dataframe tbody tr th {\n",
              "        vertical-align: top;\n",
              "    }\n",
              "\n",
              "    .dataframe thead th {\n",
              "        text-align: right;\n",
              "    }\n",
              "</style>\n",
              "<table border=\"1\" class=\"dataframe\">\n",
              "  <thead>\n",
              "    <tr style=\"text-align: right;\">\n",
              "      <th></th>\n",
              "      <th>Faeture</th>\n",
              "      <th>Feature Importances</th>\n",
              "    </tr>\n",
              "  </thead>\n",
              "  <tbody>\n",
              "    <tr>\n",
              "      <th>2</th>\n",
              "      <td>duration</td>\n",
              "      <td>0.743</td>\n",
              "    </tr>\n",
              "    <tr>\n",
              "      <th>22</th>\n",
              "      <td>contact_telephone</td>\n",
              "      <td>0.085</td>\n",
              "    </tr>\n",
              "    <tr>\n",
              "      <th>1</th>\n",
              "      <td>balance</td>\n",
              "      <td>0.041</td>\n",
              "    </tr>\n",
              "  </tbody>\n",
              "</table>\n",
              "</div>"
            ],
            "text/plain": [
              "              Faeture  Feature Importances\n",
              "2            duration                0.743\n",
              "22  contact_telephone                0.085\n",
              "1             balance                0.041"
            ]
          },
          "metadata": {
            "tags": []
          },
          "execution_count": 73
        }
      ]
    },
    {
      "cell_type": "markdown",
      "metadata": {
        "id": "JyHIkUVN5L1P"
      },
      "source": [
        "**As can be seen from above table, the most important feature is \"duration\". EDA results also depicted us that last contact durations of subscribed customers are significantly higher than those of not subscribed customers.**"
      ]
    }
  ]
}